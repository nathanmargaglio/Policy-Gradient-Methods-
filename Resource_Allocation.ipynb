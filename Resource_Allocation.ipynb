{
 "cells": [
  {
   "cell_type": "code",
   "execution_count": 1,
   "metadata": {},
   "outputs": [
    {
     "data": {
      "text/html": [
       "        <script type=\"text/javascript\">\n",
       "        window.PlotlyConfig = {MathJaxConfig: 'local'};\n",
       "        if (window.MathJax) {MathJax.Hub.Config({SVG: {font: \"STIX-Web\"}});}\n",
       "        if (typeof require !== 'undefined') {\n",
       "        require.undef(\"plotly\");\n",
       "        requirejs.config({\n",
       "            paths: {\n",
       "                'plotly': ['https://cdn.plot.ly/plotly-latest.min']\n",
       "            }\n",
       "        });\n",
       "        require(['plotly'], function(Plotly) {\n",
       "            window._Plotly = Plotly;\n",
       "        });\n",
       "        }\n",
       "        </script>\n",
       "        "
      ]
     },
     "metadata": {},
     "output_type": "display_data"
    }
   ],
   "source": [
    "%load_ext autoreload\n",
    "%autoreload 2\n",
    "import gym\n",
    "import time\n",
    "import threading\n",
    "import numpy as np\n",
    "import ipywidgets as widgets\n",
    "import plotly\n",
    "import plotly.plotly as py\n",
    "import plotly.graph_objs as go\n",
    "plotly.offline.init_notebook_mode(connected=True)\n",
    "\n",
    "import tensorflow as tf\n",
    "from tensorflow.python import keras\n",
    "from tensorflow.python.keras import layers\n",
    "\n",
    "config = tf.ConfigProto()\n",
    "config.gpu_options.allow_growth = True\n",
    "tf.enable_eager_execution(config=config)"
   ]
  },
  {
   "cell_type": "markdown",
   "metadata": {},
   "source": [
    "# Advantage Actor-Critic"
   ]
  },
  {
   "cell_type": "code",
   "execution_count": 19,
   "metadata": {},
   "outputs": [],
   "source": [
    "class CriticModel(keras.Model):\n",
    "    def __init__(self, observation_size, action_size):\n",
    "        super(CriticModel, self).__init__()\n",
    "        self.observation_size = observation_size\n",
    "        self.action_size = action_size\n",
    "        \n",
    "        self.value_dense_1 = layers.Dense(128, activation='relu')\n",
    "        self.value_dense_2 = layers.Dense(128, activation='relu')\n",
    "        self.values = layers.Dense(1)\n",
    "\n",
    "    def call(self, inputs):\n",
    "        input_tensor = tf.convert_to_tensor(inputs, dtype=tf.float32)\n",
    "        y = self.value_dense_1(input_tensor)\n",
    "        y = self.value_dense_2(y)\n",
    "        values = self.values(y)\n",
    "        return values\n",
    "    \n",
    "class ActorModel(keras.Model):\n",
    "    def __init__(self, observation_size, action_size):\n",
    "        super(ActorModel, self).__init__()\n",
    "        self.observation_size = observation_size\n",
    "        self.action_size = action_size\n",
    "        \n",
    "        self.policy_dense_1 = layers.Dense(128, activation='relu')\n",
    "        self.policy_dense_2 = layers.Dense(128, activation='relu')\n",
    "        self.policy_logits = layers.Dense(action_size)\n",
    "\n",
    "    def call(self, inputs):\n",
    "        input_tensor = tf.convert_to_tensor(inputs, dtype=tf.float32)\n",
    "        x = self.policy_dense_1(input_tensor)\n",
    "        x = self.policy_dense_2(x)\n",
    "        logits = self.policy_logits(x)\n",
    "        return logits\n",
    "    \n",
    "class ActorCriticModel(keras.Model):\n",
    "    def __init__(self, observation_size, action_size):\n",
    "        super(ActorCriticModel, self).__init__()\n",
    "        self.observation_size = observation_size\n",
    "        self.action_size = action_size\n",
    "        self.actor = ActorModel(observation_size, action_size)\n",
    "        self.critic = CriticModel(observation_size, action_size)\n",
    "        \n",
    "    def call(self, inputs):\n",
    "        return self.actor(inputs), self.critic(inputs)\n",
    "\n",
    "class HyperParameters:\n",
    "    def __init__(self, **kw):\n",
    "        self.gamma = 0.99\n",
    "        self.vf_coef = 0.5\n",
    "        self.ent_coef = 0.01\n",
    "        self.lr = 0.001\n",
    "        self.__dict__.update(kw)\n",
    "        \n",
    "def vanilla_loss(a2c, observations, actions, probabilities, discounted_rewards, hyperparameters, verbose=False, normalize_discounted_rewards=True, *args, **kargs):\n",
    "    hp = hyperparameters\n",
    "    \n",
    "    logits, values = a2c(tf.convert_to_tensor(observations, dtype=tf.float32))\n",
    "    values = tf.squeeze(values)\n",
    "\n",
    "    if normalize_discounted_rewards:\n",
    "        discounted_rewards -= np.mean(discounted_rewards)\n",
    "        discounted_rewards /= np.std(discounted_rewards)\n",
    "\n",
    "    discounted_rewards = tf.convert_to_tensor(np.array(discounted_rewards), dtype=tf.float32)\n",
    "    advantages =  tf.stop_gradient(discounted_rewards) - values\n",
    "\n",
    "    critic_loss = advantages ** 2\n",
    "\n",
    "    policy = tf.nn.softmax(logits)\n",
    "    entropy = tf.nn.softmax_cross_entropy_with_logits_v2(labels=policy, logits=logits)\n",
    "\n",
    "    actor_loss = tf.nn.sparse_softmax_cross_entropy_with_logits(labels=actions, logits=logits)\n",
    "    actor_loss *= tf.stop_gradient(advantages)\n",
    "    actor_loss -= hp.ent_coef * entropy\n",
    "\n",
    "    total_loss = tf.reduce_mean(hp.vf_coef * critic_loss + actor_loss)\n",
    "\n",
    "    if verbose:\n",
    "        variables = dir()[:]\n",
    "        for key in variables:\n",
    "            print(key)\n",
    "            print(locals()[key])\n",
    "    \n",
    "    return total_loss\n",
    "\n",
    "def run(env, a2c, verbose=False, *args, **kargs):\n",
    "    obs = env.reset()\n",
    "    done = False\n",
    "    rewards = []\n",
    "    actions = []\n",
    "    probabilities = []\n",
    "    observations = []\n",
    "        \n",
    "    while not done:\n",
    "        logits, _ = a2c(tf.convert_to_tensor(obs[None, :], dtype=tf.float32))\n",
    "        probs = tf.nn.softmax(logits)\n",
    "        action = np.random.choice(env.action_space.n, p=probs.numpy()[0])\n",
    "\n",
    "        next_obs, reward, done, info = env.step(action)\n",
    "        \n",
    "        if done:\n",
    "            reward = -1\n",
    "        \n",
    "        observations.append(obs)\n",
    "        actions.append(action)\n",
    "        probabilities.append(probs)\n",
    "        rewards.append(reward)\n",
    "        \n",
    "        obs = next_obs\n",
    "        total_reward = np.sum(rewards)\n",
    "        \n",
    "        if verbose:\n",
    "            variables = dir()[:]\n",
    "            for key in variables:\n",
    "                print(key)\n",
    "                print(locals()[key])\n",
    "            \n",
    "        if done:\n",
    "            return observations, actions, probabilities, rewards\n",
    "        \n",
    "def learn(a2c, loss, observations, actions, probabilities, discounted_rewards, hyperparameters, *args, **kargs):\n",
    "    opt = tf.train.AdamOptimizer(hp.lr, use_locking=True)\n",
    "    with tf.GradientTape() as tape:\n",
    "        total_loss = loss(a2c, observations, actions, probabilities, discounted_rewards, hyperparameters=hp, **kargs)\n",
    "\n",
    "    grads = tape.gradient(total_loss, a2c.trainable_weights)\n",
    "    opt.apply_gradients(zip(grads, a2c.trainable_weights))\n",
    "    \n",
    "def get_discounted_rewards(rewards, gamma=0.99):\n",
    "    discounted_rewards = []\n",
    "    reward_sum = 0\n",
    "    for reward in rewards[::-1]:\n",
    "        reward_sum = reward + gamma * reward_sum\n",
    "        discounted_rewards.append(reward_sum)\n",
    "    discounted_rewards.reverse()\n",
    "    return discounted_rewards"
   ]
  },
  {
   "cell_type": "code",
   "execution_count": 98,
   "metadata": {},
   "outputs": [
    {
     "name": "stdout",
     "output_type": "stream",
     "text": [
      "Ep 21 (0.419s): 23.3\n",
      "Ep 25 (22.953s): 84.4\n",
      "Ep 32 (46.638s): 111.8\n",
      "Ep 36 (70.235s): 100.4\n",
      "Ep 43 (94.370s): 94.3\n",
      "Ep 47 (119.162s): 105.0\n",
      "Ep 49 (144.318s): 142.9\n",
      "Ep 52 (170.448s): 186.4\n",
      "Ep 55 (197.161s): 210.1\n",
      "Ep 58 (224.524s): 216.9\n",
      "Ep 61 (252.565s): 208.5\n",
      "Ep 64 (281.150s): 205.0\n",
      "Ep 67 (310.305s): 196.4\n",
      "Ep 70 (340.188s): 192.0\n",
      "Ep 74 (370.561s): 171.2\n",
      "Ep 76 (401.809s): 193.0\n",
      "Ep 79 (433.577s): 198.2\n",
      "Ep 83 (465.890s): 192.2\n",
      "Ep 87 (498.924s): 168.5\n",
      "Ep 90 (532.316s): 172.8\n",
      "Ep 92 (566.457s): 195.2\n",
      "Ep 99 (601.339s): 160.3\n",
      "636.3940904140472\n"
     ]
    }
   ],
   "source": [
    "env = gym.make('CartPole-v1')\n",
    "#env = gym.make('LunarLander-v2')\n",
    "a2c = ActorCriticModel(env.observation_space.shape[0], env.action_space.n)\n",
    "a2c(tf.convert_to_tensor(np.random.random((1, a2c.observation_size)), dtype=tf.float32))\n",
    "\n",
    "hp = HyperParameters(gamma = 0.99, vf_coef = 0.5, ent_coef = 0.001, lr = 0.001)\n",
    "\n",
    "start_time = time.time()\n",
    "batch = {\n",
    "    \"observations\": [],\n",
    "    \"actions\": [],\n",
    "    \"probabilities\": [],\n",
    "    \"discounted_rewards\": []\n",
    "}\n",
    "\n",
    "ep_rewards = []\n",
    "episodes = 100\n",
    "episode = 0\n",
    "epochs = 64\n",
    "batch_size = 512\n",
    "while episode < episodes:\n",
    "    observations, actions, probs, rewards = run(env, a2c, verbose=0)\n",
    "    ep_rewards.append(np.sum(rewards))\n",
    "    \n",
    "    # Calculate True Discounted Rewards\n",
    "    discounted_rewards = get_discounted_rewards(rewards, hp.gamma)\n",
    "    \n",
    "    batch['observations'] += observations\n",
    "    batch['actions'] += actions\n",
    "    batch['probabilities'] += probs\n",
    "    batch['discounted_rewards'] += discounted_rewards\n",
    "\n",
    "    if len(batch['observations']) >= batch_size:\n",
    "        print(f\"Ep {episode} ({time.time() - start_time:.3f}s): {np.mean(ep_rewards[-10:])}\")\n",
    "        for epoch in range(epochs):\n",
    "            learn(a2c, vanilla_loss, hyperparameters=hp, lock_actor=True, **batch)\n",
    "        batch = {\n",
    "            \"observations\": [],\n",
    "            \"actions\": [],\n",
    "            \"probabilities\": [],\n",
    "            \"discounted_rewards\": []\n",
    "        }\n",
    "    episode += 1\n",
    "    \n",
    "end_time = time.time()\n",
    "print(end_time - start_time)"
   ]
  },
  {
   "cell_type": "code",
   "execution_count": 99,
   "metadata": {},
   "outputs": [
    {
     "data": {
      "application/vnd.plotly.v1+json": {
       "config": {
        "linkText": "Export to plot.ly",
        "plotlyServerURL": "https://plot.ly",
        "responsive": true,
        "showLink": false
       },
       "data": [
        {
         "type": "scatter",
         "uid": "97ea591f-7f04-46f0-af74-3a4d45b2510e",
         "x": [
          0,
          1,
          2,
          3,
          4,
          5,
          6,
          7,
          8,
          9,
          10,
          11,
          12,
          13,
          14,
          15,
          16,
          17,
          18,
          19,
          20,
          21,
          22,
          23,
          24,
          25,
          26,
          27,
          28,
          29,
          30,
          31,
          32,
          33,
          34,
          35,
          36,
          37,
          38,
          39,
          40,
          41,
          42,
          43,
          44,
          45,
          46,
          47,
          48,
          49,
          50,
          51,
          52,
          53,
          54,
          55,
          56,
          57,
          58,
          59,
          60,
          61,
          62,
          63,
          64,
          65,
          66,
          67,
          68,
          69,
          70,
          71,
          72,
          73,
          74,
          75,
          76,
          77,
          78,
          79,
          80,
          81,
          82,
          83,
          84,
          85,
          86,
          87,
          88,
          89,
          90,
          91,
          92,
          93,
          94,
          95,
          96,
          97,
          98,
          99
         ],
         "y": [
          29,
          30,
          18,
          20,
          13,
          32,
          11,
          43,
          10,
          21,
          9,
          24,
          13,
          15,
          9,
          17,
          19,
          11,
          39,
          34,
          27,
          49,
          99,
          125,
          273,
          168,
          79,
          71,
          101,
          81,
          82,
          67,
          71,
          128,
          133,
          138,
          132,
          76,
          74,
          62,
          64,
          108,
          87,
          69,
          150,
          159,
          114,
          163,
          259,
          256,
          235,
          233,
          226,
          201,
          205,
          209,
          185,
          215,
          204,
          209,
          209,
          222,
          193,
          195,
          209,
          168,
          183,
          172,
          178,
          213,
          187,
          154,
          163,
          148,
          146,
          304,
          265,
          190,
          243,
          182,
          133,
          127,
          178,
          154,
          150,
          178,
          177,
          163,
          195,
          201,
          205,
          284,
          245,
          129,
          51,
          73,
          69,
          97,
          74,
          376
         ]
        }
       ],
       "layout": {
        "autosize": true,
        "template": {
         "data": {
          "scatter": [
           {
            "line": {
             "width": 3
            },
            "marker": {
             "size": 9
            },
            "type": "scatter"
           }
          ],
          "scatter3d": [
           {
            "line": {
             "width": 3
            },
            "marker": {
             "size": 9
            },
            "type": "scatter3d"
           }
          ],
          "scattergeo": [
           {
            "line": {
             "width": 3
            },
            "marker": {
             "size": 9
            },
            "type": "scattergeo"
           }
          ],
          "scattergl": [
           {
            "line": {
             "width": 3
            },
            "marker": {
             "size": 9
            },
            "type": "scattergl"
           }
          ],
          "scatterpolar": [
           {
            "line": {
             "width": 3
            },
            "marker": {
             "size": 9
            },
            "type": "scatterpolar"
           }
          ],
          "scatterpolargl": [
           {
            "line": {
             "width": 3
            },
            "marker": {
             "size": 9
            },
            "type": "scatterpolargl"
           }
          ],
          "scatterternary": [
           {
            "line": {
             "width": 3
            },
            "marker": {
             "size": 9
            },
            "type": "scatterternary"
           }
          ],
          "table": [
           {
            "cells": {
             "height": 30
            },
            "header": {
             "height": 36
            },
            "type": "table"
           }
          ]
         },
         "layout": {
          "font": {
           "size": 18
          }
         }
        },
        "title": {
         "text": "Reward Per Episode"
        },
        "xaxis": {
         "autorange": true,
         "range": [
          0,
          99
         ],
         "type": "linear"
        },
        "yaxis": {
         "autorange": true,
         "range": [
          -11.388888888888886,
          396.3888888888889
         ],
         "type": "linear"
        }
       }
      },
      "image/png": "[encoded data removed]",
      "text/html": [
       "<div>\n",
       "        \n",
       "        \n",
       "            <div id=\"b0c56371-fe93-4153-b15d-3d2cf0295efa\" class=\"plotly-graph-div\" style=\"height:525px; width:100%;\"></div>\n",
       "            <script type=\"text/javascript\">\n",
       "                require([\"plotly\"], function(Plotly) {\n",
       "                    window.PLOTLYENV=window.PLOTLYENV || {};\n",
       "                    window.PLOTLYENV.BASE_URL='https://plot.ly';\n",
       "                    \n",
       "                if (document.getElementById(\"b0c56371-fe93-4153-b15d-3d2cf0295efa\")) {\n",
       "                    Plotly.newPlot(\n",
       "                        'b0c56371-fe93-4153-b15d-3d2cf0295efa',\n",
       "                        [{\"type\": \"scatter\", \"uid\": \"38d73a53-a54e-4f77-8919-998a91c98da4\", \"x\": [0, 1, 2, 3, 4, 5, 6, 7, 8, 9, 10, 11, 12, 13, 14, 15, 16, 17, 18, 19, 20, 21, 22, 23, 24, 25, 26, 27, 28, 29, 30, 31, 32, 33, 34, 35, 36, 37, 38, 39, 40, 41, 42, 43, 44, 45, 46, 47, 48, 49, 50, 51, 52, 53, 54, 55, 56, 57, 58, 59, 60, 61, 62, 63, 64, 65, 66, 67, 68, 69, 70, 71, 72, 73, 74, 75, 76, 77, 78, 79, 80, 81, 82, 83, 84, 85, 86, 87, 88, 89, 90, 91, 92, 93, 94, 95, 96, 97, 98, 99], \"y\": [29.0, 30.0, 18.0, 20.0, 13.0, 32.0, 11.0, 43.0, 10.0, 21.0, 9.0, 24.0, 13.0, 15.0, 9.0, 17.0, 19.0, 11.0, 39.0, 34.0, 27.0, 49.0, 99.0, 125.0, 273.0, 168.0, 79.0, 71.0, 101.0, 81.0, 82.0, 67.0, 71.0, 128.0, 133.0, 138.0, 132.0, 76.0, 74.0, 62.0, 64.0, 108.0, 87.0, 69.0, 150.0, 159.0, 114.0, 163.0, 259.0, 256.0, 235.0, 233.0, 226.0, 201.0, 205.0, 209.0, 185.0, 215.0, 204.0, 209.0, 209.0, 222.0, 193.0, 195.0, 209.0, 168.0, 183.0, 172.0, 178.0, 213.0, 187.0, 154.0, 163.0, 148.0, 146.0, 304.0, 265.0, 190.0, 243.0, 182.0, 133.0, 127.0, 178.0, 154.0, 150.0, 178.0, 177.0, 163.0, 195.0, 201.0, 205.0, 284.0, 245.0, 129.0, 51.0, 73.0, 69.0, 97.0, 74.0, 376.0]}],\n",
       "                        {\"template\": {\"data\": {\"scatter\": [{\"line\": {\"width\": 3}, \"marker\": {\"size\": 9}, \"type\": \"scatter\"}], \"scatter3d\": [{\"line\": {\"width\": 3}, \"marker\": {\"size\": 9}, \"type\": \"scatter3d\"}], \"scattergeo\": [{\"line\": {\"width\": 3}, \"marker\": {\"size\": 9}, \"type\": \"scattergeo\"}], \"scattergl\": [{\"line\": {\"width\": 3}, \"marker\": {\"size\": 9}, \"type\": \"scattergl\"}], \"scatterpolar\": [{\"line\": {\"width\": 3}, \"marker\": {\"size\": 9}, \"type\": \"scatterpolar\"}], \"scatterpolargl\": [{\"line\": {\"width\": 3}, \"marker\": {\"size\": 9}, \"type\": \"scatterpolargl\"}], \"scatterternary\": [{\"line\": {\"width\": 3}, \"marker\": {\"size\": 9}, \"type\": \"scatterternary\"}], \"table\": [{\"cells\": {\"height\": 30}, \"header\": {\"height\": 36}, \"type\": \"table\"}]}, \"layout\": {\"font\": {\"size\": 18}}}, \"title\": {\"text\": \"Reward Per Episode\"}},\n",
       "                        {\"showLink\": false, \"linkText\": \"Export to plot.ly\", \"plotlyServerURL\": \"https://plot.ly\", \"responsive\": true}\n",
       "                    ).then(function(){\n",
       "                            \n",
       "var gd = document.getElementById('b0c56371-fe93-4153-b15d-3d2cf0295efa');\n",
       "var x = new MutationObserver(function (mutations, observer) {{\n",
       "        var display = window.getComputedStyle(gd).display;\n",
       "        if (!display || display === 'none') {{\n",
       "            console.log([gd, 'removed!']);\n",
       "            Plotly.purge(gd);\n",
       "            observer.disconnect();\n",
       "        }}\n",
       "}});\n",
       "\n",
       "// Listen for the removal of the full notebook cells\n",
       "var notebookContainer = gd.closest('#notebook-container');\n",
       "if (notebookContainer) {{\n",
       "    x.observe(notebookContainer, {childList: true});\n",
       "}}\n",
       "\n",
       "// Listen for the clearing of the current output cell\n",
       "var outputEl = gd.closest('.output');\n",
       "if (outputEl) {{\n",
       "    x.observe(outputEl, {childList: true});\n",
       "}}\n",
       "\n",
       "                        })\n",
       "                };\n",
       "                });\n",
       "            </script>\n",
       "        </div>"
      ]
     },
     "metadata": {},
     "output_type": "display_data"
    }
   ],
   "source": [
    "def moving_average(a, n=3) :\n",
    "    ret = np.cumsum(a, dtype=float)\n",
    "    ret[n:] = ret[n:] - ret[:-n]\n",
    "    return ret[n - 1:] / n\n",
    "\n",
    "plotly.offline.iplot({\n",
    "    \"data\": [go.Scatter(x=np.arange(len(ep_rewards)), y=moving_average(ep_rewards, 1))],\n",
    "    \"layout\": go.Layout(title=\"Reward Per Episode\", template=\"presentation\")\n",
    "})"
   ]
  },
  {
   "cell_type": "markdown",
   "metadata": {},
   "source": [
    "# Proximal Policy Optimization"
   ]
  },
  {
   "cell_type": "code",
   "execution_count": 93,
   "metadata": {},
   "outputs": [],
   "source": [
    "def ppo_loss(a2c, observations, actions, probs, discounted_rewards, hyperparameters, verbose=False, normalize_discounted_rewards=True, *args, **kargs):\n",
    "    hp = hyperparameters\n",
    "    \n",
    "    logits, values = a2c(tf.convert_to_tensor(observations, dtype=tf.float32))\n",
    "    values = tf.squeeze(values)\n",
    "    probs = tf.squeeze(probs)\n",
    "\n",
    "    if normalize_discounted_rewards:\n",
    "        discounted_rewards -= np.mean(discounted_rewards)\n",
    "        discounted_rewards /= np.std(discounted_rewards)\n",
    "\n",
    "    discounted_rewards = tf.convert_to_tensor(np.array(discounted_rewards), dtype=tf.float32)\n",
    "    advantages =  tf.stop_gradient(discounted_rewards) - values\n",
    "\n",
    "    critic_loss = advantages ** 2\n",
    "\n",
    "    policy = tf.nn.softmax(logits)\n",
    "    entropy = tf.nn.softmax_cross_entropy_with_logits_v2(labels=policy, logits=logits)\n",
    "    \n",
    "    r = policy/probs\n",
    "    one_hot_actions = tf.one_hot(actions, policy.shape[1])\n",
    "    adv = tf.multiply(tf.expand_dims(tf.stop_gradient(advantages), axis=1), one_hot_actions)\n",
    "    actor_loss = tf.minimum(\n",
    "        r*adv,\n",
    "        tf.clip_by_value(r, 1-hp.eps, 1+hp.eps)*adv\n",
    "    )\n",
    "    actor_loss = -tf.reduce_sum(actor_loss, axis=1)\n",
    "    actor_loss += hp.ent_coef * entropy\n",
    "\n",
    "    total_loss = tf.reduce_mean(hp.vf_coef * critic_loss + actor_loss)\n",
    "\n",
    "    if verbose:\n",
    "        variables = dir()[:]\n",
    "        for key in variables:\n",
    "            print(key)\n",
    "            print(locals()[key])\n",
    "    \n",
    "    return total_loss"
   ]
  },
  {
   "cell_type": "code",
   "execution_count": 96,
   "metadata": {},
   "outputs": [
    {
     "name": "stdout",
     "output_type": "stream",
     "text": [
      "Ep 26 (0.436s): 25.5\n",
      "Ep 41 (11.974s): 38.0\n",
      "Ep 49 (24.232s): 66.5\n",
      "Ep 53 (37.219s): 98.0\n",
      "Ep 58 (50.754s): 120.5\n",
      "Ep 61 (64.769s): 130.7\n",
      "Ep 64 (79.683s): 151.8\n",
      "Ep 67 (95.454s): 194.7\n",
      "Ep 69 (111.684s): 251.4\n",
      "Ep 72 (128.333s): 233.6\n",
      "Ep 75 (145.985s): 263.9\n",
      "Ep 77 (164.251s): 281.8\n",
      "Ep 80 (183.152s): 252.6\n",
      "Ep 82 (202.844s): 282.7\n",
      "Ep 85 (223.242s): 284.6\n",
      "Ep 87 (244.424s): 280.7\n",
      "Ep 90 (266.369s): 316.3\n",
      "Ep 92 (288.885s): 326.7\n",
      "Ep 94 (312.208s): 378.2\n",
      "Ep 96 (336.099s): 361.0\n",
      "Ep 98 (361.018s): 386.6\n",
      "385.93338227272034\n"
     ]
    }
   ],
   "source": [
    "env = gym.make('CartPole-v1')\n",
    "#env = gym.make('LunarLander-v2')\n",
    "a2c = ActorCriticModel(env.observation_space.shape[0], env.action_space.n)\n",
    "a2c(tf.convert_to_tensor(np.random.random((1, a2c.observation_size)), dtype=tf.float32))\n",
    "\n",
    "hp = HyperParameters(gamma = 0.99, vf_coef = 0.5, ent_coef = 0.001, lr = 0.001, eps=0.2)\n",
    "\n",
    "start_time = time.time()\n",
    "batch = {\n",
    "    \"observations\": [],\n",
    "    \"actions\": [],\n",
    "    \"probabilities\": [],\n",
    "    \"discounted_rewards\": []\n",
    "}\n",
    "\n",
    "ep_rewards = []\n",
    "episodes = 100\n",
    "episode = 0\n",
    "epochs = 64\n",
    "batch_size = 512\n",
    "while episode < episodes:\n",
    "    observations, actions, probs, rewards = run(env, a2c, verbose=0)\n",
    "    ep_rewards.append(np.sum(rewards))\n",
    "    \n",
    "    # Calculate True Discounted Rewards\n",
    "    discounted_rewards = get_discounted_rewards(rewards, hp.gamma)\n",
    "    \n",
    "    batch['observations'] += observations\n",
    "    batch['actions'] += actions\n",
    "    batch['probabilities'] += probs\n",
    "    batch['discounted_rewards'] += discounted_rewards\n",
    "\n",
    "    if len(batch['observations']) >= batch_size:\n",
    "        print(f\"Ep {episode} ({time.time() - start_time:.3f}s): {np.mean(ep_rewards[-10:])}\")\n",
    "        for epoch in range(epochs):\n",
    "            learn(a2c, ppo_loss, hyperparameters=hp, lock_actor=True, **batch)\n",
    "        batch = {\n",
    "            \"observations\": [],\n",
    "            \"actions\": [],\n",
    "            \"probabilities\": [],\n",
    "            \"discounted_rewards\": []\n",
    "        }\n",
    "    episode += 1\n",
    "    \n",
    "end_time = time.time()\n",
    "print(end_time - start_time)"
   ]
  },
  {
   "cell_type": "code",
   "execution_count": 97,
   "metadata": {},
   "outputs": [
    {
     "data": {
      "application/vnd.plotly.v1+json": {
       "config": {
        "linkText": "Export to plot.ly",
        "plotlyServerURL": "https://plot.ly",
        "responsive": true,
        "showLink": false
       },
       "data": [
        {
         "type": "scatter",
         "uid": "37ed0ae3-4974-41c4-a02c-cc2e97c1f933",
         "x": [
          0,
          1,
          2,
          3,
          4,
          5,
          6,
          7,
          8,
          9,
          10,
          11,
          12,
          13,
          14,
          15,
          16,
          17,
          18,
          19,
          20,
          21,
          22,
          23,
          24,
          25,
          26,
          27,
          28,
          29,
          30,
          31,
          32,
          33,
          34,
          35,
          36,
          37,
          38,
          39,
          40,
          41,
          42,
          43,
          44,
          45,
          46,
          47,
          48,
          49,
          50,
          51,
          52,
          53,
          54,
          55,
          56,
          57,
          58,
          59,
          60,
          61,
          62,
          63,
          64,
          65,
          66,
          67,
          68,
          69,
          70,
          71,
          72,
          73,
          74,
          75,
          76,
          77,
          78,
          79,
          80,
          81,
          82,
          83,
          84,
          85,
          86,
          87,
          88,
          89,
          90,
          91,
          92,
          93,
          94,
          95,
          96,
          97,
          98,
          99
         ],
         "y": [
          11,
          15,
          8,
          30,
          7,
          13,
          8,
          7,
          12,
          16,
          11,
          24,
          22,
          8,
          35,
          22,
          8,
          14,
          22,
          11,
          34,
          9,
          33,
          28,
          26,
          22,
          56,
          15,
          22,
          21,
          38,
          17,
          29,
          34,
          34,
          45,
          18,
          17,
          26,
          39,
          41,
          97,
          81,
          45,
          19,
          54,
          18,
          78,
          118,
          114,
          190,
          121,
          106,
          162,
          104,
          94,
          147,
          152,
          15,
          124,
          192,
          211,
          303,
          145,
          135,
          161,
          334,
          327,
          314,
          392,
          188,
          171,
          169,
          187,
          207,
          350,
          342,
          498,
          162,
          215,
          225,
          498,
          143,
          206,
          230,
          327,
          498,
          303,
          108,
          352,
          498,
          497,
          248,
          453,
          498,
          359,
          294,
          345,
          322,
          370
         ]
        }
       ],
       "layout": {
        "autosize": true,
        "template": {
         "data": {
          "scatter": [
           {
            "line": {
             "width": 3
            },
            "marker": {
             "size": 9
            },
            "type": "scatter"
           }
          ],
          "scatter3d": [
           {
            "line": {
             "width": 3
            },
            "marker": {
             "size": 9
            },
            "type": "scatter3d"
           }
          ],
          "scattergeo": [
           {
            "line": {
             "width": 3
            },
            "marker": {
             "size": 9
            },
            "type": "scattergeo"
           }
          ],
          "scattergl": [
           {
            "line": {
             "width": 3
            },
            "marker": {
             "size": 9
            },
            "type": "scattergl"
           }
          ],
          "scatterpolar": [
           {
            "line": {
             "width": 3
            },
            "marker": {
             "size": 9
            },
            "type": "scatterpolar"
           }
          ],
          "scatterpolargl": [
           {
            "line": {
             "width": 3
            },
            "marker": {
             "size": 9
            },
            "type": "scatterpolargl"
           }
          ],
          "scatterternary": [
           {
            "line": {
             "width": 3
            },
            "marker": {
             "size": 9
            },
            "type": "scatterternary"
           }
          ],
          "table": [
           {
            "cells": {
             "height": 30
            },
            "header": {
             "height": 36
            },
            "type": "table"
           }
          ]
         },
         "layout": {
          "font": {
           "size": 18
          }
         }
        },
        "title": {
         "text": "Reward Per Episode"
        },
        "xaxis": {
         "autorange": true,
         "range": [
          0,
          99
         ],
         "type": "linear"
        },
        "yaxis": {
         "autorange": true,
         "range": [
          -20.27777777777778,
          525.2777777777778
         ],
         "type": "linear"
        }
       }
      },
      "image/png": "[encoded data removed]",
      "text/html": [
       "<div>\n",
       "        \n",
       "        \n",
       "            <div id=\"64f94be7-f460-4cc1-b6b7-33f08bfd03d9\" class=\"plotly-graph-div\" style=\"height:525px; width:100%;\"></div>\n",
       "            <script type=\"text/javascript\">\n",
       "                require([\"plotly\"], function(Plotly) {\n",
       "                    window.PLOTLYENV=window.PLOTLYENV || {};\n",
       "                    window.PLOTLYENV.BASE_URL='https://plot.ly';\n",
       "                    \n",
       "                if (document.getElementById(\"64f94be7-f460-4cc1-b6b7-33f08bfd03d9\")) {\n",
       "                    Plotly.newPlot(\n",
       "                        '64f94be7-f460-4cc1-b6b7-33f08bfd03d9',\n",
       "                        [{\"type\": \"scatter\", \"uid\": \"874bc886-4ab6-48b3-82bc-283009bed415\", \"x\": [0, 1, 2, 3, 4, 5, 6, 7, 8, 9, 10, 11, 12, 13, 14, 15, 16, 17, 18, 19, 20, 21, 22, 23, 24, 25, 26, 27, 28, 29, 30, 31, 32, 33, 34, 35, 36, 37, 38, 39, 40, 41, 42, 43, 44, 45, 46, 47, 48, 49, 50, 51, 52, 53, 54, 55, 56, 57, 58, 59, 60, 61, 62, 63, 64, 65, 66, 67, 68, 69, 70, 71, 72, 73, 74, 75, 76, 77, 78, 79, 80, 81, 82, 83, 84, 85, 86, 87, 88, 89, 90, 91, 92, 93, 94, 95, 96, 97, 98, 99], \"y\": [11.0, 15.0, 8.0, 30.0, 7.0, 13.0, 8.0, 7.0, 12.0, 16.0, 11.0, 24.0, 22.0, 8.0, 35.0, 22.0, 8.0, 14.0, 22.0, 11.0, 34.0, 9.0, 33.0, 28.0, 26.0, 22.0, 56.0, 15.0, 22.0, 21.0, 38.0, 17.0, 29.0, 34.0, 34.0, 45.0, 18.0, 17.0, 26.0, 39.0, 41.0, 97.0, 81.0, 45.0, 19.0, 54.0, 18.0, 78.0, 118.0, 114.0, 190.0, 121.0, 106.0, 162.0, 104.0, 94.0, 147.0, 152.0, 15.0, 124.0, 192.0, 211.0, 303.0, 145.0, 135.0, 161.0, 334.0, 327.0, 314.0, 392.0, 188.0, 171.0, 169.0, 187.0, 207.0, 350.0, 342.0, 498.0, 162.0, 215.0, 225.0, 498.0, 143.0, 206.0, 230.0, 327.0, 498.0, 303.0, 108.0, 352.0, 498.0, 497.0, 248.0, 453.0, 498.0, 359.0, 294.0, 345.0, 322.0, 370.0]}],\n",
       "                        {\"template\": {\"data\": {\"scatter\": [{\"line\": {\"width\": 3}, \"marker\": {\"size\": 9}, \"type\": \"scatter\"}], \"scatter3d\": [{\"line\": {\"width\": 3}, \"marker\": {\"size\": 9}, \"type\": \"scatter3d\"}], \"scattergeo\": [{\"line\": {\"width\": 3}, \"marker\": {\"size\": 9}, \"type\": \"scattergeo\"}], \"scattergl\": [{\"line\": {\"width\": 3}, \"marker\": {\"size\": 9}, \"type\": \"scattergl\"}], \"scatterpolar\": [{\"line\": {\"width\": 3}, \"marker\": {\"size\": 9}, \"type\": \"scatterpolar\"}], \"scatterpolargl\": [{\"line\": {\"width\": 3}, \"marker\": {\"size\": 9}, \"type\": \"scatterpolargl\"}], \"scatterternary\": [{\"line\": {\"width\": 3}, \"marker\": {\"size\": 9}, \"type\": \"scatterternary\"}], \"table\": [{\"cells\": {\"height\": 30}, \"header\": {\"height\": 36}, \"type\": \"table\"}]}, \"layout\": {\"font\": {\"size\": 18}}}, \"title\": {\"text\": \"Reward Per Episode\"}},\n",
       "                        {\"showLink\": false, \"linkText\": \"Export to plot.ly\", \"plotlyServerURL\": \"https://plot.ly\", \"responsive\": true}\n",
       "                    ).then(function(){\n",
       "                            \n",
       "var gd = document.getElementById('64f94be7-f460-4cc1-b6b7-33f08bfd03d9');\n",
       "var x = new MutationObserver(function (mutations, observer) {{\n",
       "        var display = window.getComputedStyle(gd).display;\n",
       "        if (!display || display === 'none') {{\n",
       "            console.log([gd, 'removed!']);\n",
       "            Plotly.purge(gd);\n",
       "            observer.disconnect();\n",
       "        }}\n",
       "}});\n",
       "\n",
       "// Listen for the removal of the full notebook cells\n",
       "var notebookContainer = gd.closest('#notebook-container');\n",
       "if (notebookContainer) {{\n",
       "    x.observe(notebookContainer, {childList: true});\n",
       "}}\n",
       "\n",
       "// Listen for the clearing of the current output cell\n",
       "var outputEl = gd.closest('.output');\n",
       "if (outputEl) {{\n",
       "    x.observe(outputEl, {childList: true});\n",
       "}}\n",
       "\n",
       "                        })\n",
       "                };\n",
       "                });\n",
       "            </script>\n",
       "        </div>"
      ]
     },
     "metadata": {},
     "output_type": "display_data"
    }
   ],
   "source": [
    "def moving_average(a, n=3) :\n",
    "    ret = np.cumsum(a, dtype=float)\n",
    "    ret[n:] = ret[n:] - ret[:-n]\n",
    "    return ret[n - 1:] / n\n",
    "\n",
    "plotly.offline.iplot({\n",
    "    \"data\": [go.Scatter(x=np.arange(len(ep_rewards)), y=moving_average(ep_rewards, 1))],\n",
    "    \"layout\": go.Layout(title=\"Reward Per Episode\", template=\"presentation\")\n",
    "})"
   ]
  },
  {
   "cell_type": "markdown",
   "metadata": {},
   "source": [
    "## Markov Allocation Process\n",
    "\n",
    "A typical definition for a MDP is as follows:\n",
    "\n",
    "- state, action, and reward at each time $t \\in \\{0, 1, 2, ...\\}$ are denoted $s_t \\in S$, $a_t \\in A$, and $r_t \\in \\mathbb{R}$\n",
    "- the environment's dynamics are characterized by state transition probabilities, $P^a_{ss'} = Pr\\{ s_{t+1} = s' \\mid s_t = s, a_t = a\\}$ and expected rewards $R^a_s = \\mathbb{E}\\{r_{t+1} \\mid s_t = s, a_t = a\\}, \\forall s, s' \\in S, a\\in A$\n",
    "- the agent's decision making procedure is characterized by a policy, $\\pi(s,a,\\theta) = Pr\\{a_t=a \\mid s_t=s,\\theta\\}, \\forall s\\in S, a\\in A$, where $\\theta \\in \\mathbb{R}^l$, for $l << \\left| S \\right|$, is a parameter vector.\n",
    "- we assume $\\pi$ is differentiable with respect to its parameter, i.e., that $\\frac{\\partial\\pi(s,a)}{\\partial\\theta}$ exists."
   ]
  },
  {
   "cell_type": "markdown",
   "metadata": {},
   "source": [
    "We suggest a slight alteration to this definition to accommodate tasks which have us optimize resource allocation instead of the task of optimal decision making.  Consider an environment where there a $k$ *assets* we can allocate resources to and from.  Then, we replace the notion of *rewards* with *returns* so that at each time step $t\\in \\{0,1,2,...\\}$, the return is denoted $r_t \\in \\mathbb{R}^k$.  Our state space is modified to incorporate the current allocation, that is, if $S'$ is the state space offered by the environment, then our working state space $S = S' \\times A$.\n",
    "\n",
    "We also replace our action space with an *allocation space*, $A=\\mathbb{R}^k$, where each $a_t \\in A$ is a vector of size $k$ where each entry $a_{t,i} \\in [0,1]$ and $\\sum_{i=1}^k a_{t, i} = 1$.  In essence, this can be achieved through a softmax function, so that an element of our allocation space can be directly computed by our policy $\\pi$.  Thus, our policy will no longer be returning a probability, despite it working very similarly to how it normally works.  Formally, the agent's allocation making procedure is characterized by a policy, $\\pi: S \\times A \\rightarrow A$."
   ]
  },
  {
   "cell_type": "markdown",
   "metadata": {},
   "source": [
    "## Start-State Formulation\n",
    "\n",
    "Similar to typical policy gradient methods, we will use something akin to the start-state formulation to represent the performance of our policy.  Unlike the typical formulation, our $\\rho$ and $Q^\\pi$ aren't scalar values but are instead vectors, where each entry represents the performance of it's corresponding asset.\n",
    "\n",
    "$$ \\rho(\\pi)_i = \\mathbb{E}\\{ \\sum_{t=1}^{\\infty} \\gamma^{t-1} r_{t, i} \\mid s_0,\\pi\\} $$\n",
    "\n",
    "$$ Q^\\pi(s,a)_i = \\mathbb{E}\\{ \\sum_{j=1}^{\\infty} \\gamma^{j-1} r_{t+j, i} \\mid s_t = s, a_t = a, \\pi \\} $$\n",
    "\n",
    "where $\\gamma \\in [0,1]$ is a discount rate.\n",
    "\n",
    "In this formulation, $\\sum_{i=1}^k \\rho(\\pi)_i$ represents our overall performance.  Naively, this becomes equivalent to our traditional definition of $\\rho$, but it is important to note that different configurations of elements of $\\rho$ can result in similar overall rewards.  For example, if $\\rho = < 1, 0, -1 >$, it will have the same value for it's overall performance as $\\rho' = < 0, -1, 1 >$, despite these vectors having very different components.\n",
    "\n",
    "We define $d^\\pi (s)$ as a discounted weighting of states encountered starting at $s_0$ and the following $\\pi$:\n",
    "\n",
    "$$ d^\\pi(s) = \\sum_{t=0}^{\\infty} \\gamma^t Pr\\{s_t=s \\mid s_0,\\pi\\}$$"
   ]
  },
  {
   "cell_type": "markdown",
   "metadata": {},
   "source": [
    "## Policy Gradient with Approximation\n",
    "\n",
    "If we can approximate $Q^\\pi$ by a learned function, we can use it in place of $Q^pi$ in the above theorem and still point roughly in the direction of the gradient.\n",
    "\n",
    "Let $f_w : S \\times A \\rightarrow \\mathbb{R}^k$ be our approximation to $Q^\\pi$ with parameter $w$.  It is natural to learn $f_w$ by following $\\pi$ and updating $w$ by a rule such as\n",
    "\n",
    "$$ \\Delta w_t \n",
    "\\; \\propto \\;\n",
    "\\frac{\\partial}{\\partial w}[\\hat{Q}^\\pi(s_t, a_t) - f_w (s_t, a_t)]^2 \n",
    "\\; \\propto \\;\n",
    "[ \\hat{Q}^\\pi (s_t, a_t) - f_w(s_t, a_t)] \\frac{\\partial f_w (s_t, a_t)}{\\partial w} $$\n",
    "\n",
    "where $\\hat{Q}^\\pi$ is some unbiased estimator of $Q^\\pi(s_t,a_t)$, perhaps $R_t$\n",
    "\n",
    "When such a process has converged to a local optimum, then\n",
    "\n",
    "$$\n",
    "\\sum_s d^\\pi(s) \\sum_a \\pi(s,a)[Q^\\pi (s,a) - f_w(s,a)] \\frac{\\partial f_w(s,a)}{\\partial w} = 0\n",
    "$$\n",
    "\n",
    "We needn't concern ourself with the introduction of vectors here, since we can represent both $\\hat{Q}^\\pi$ and $f_w$ as a vector of functions, each with the above properties holding true."
   ]
  },
  {
   "cell_type": "markdown",
   "metadata": {},
   "source": [
    "## Loss Function\n",
    "\n"
   ]
  },
  {
   "cell_type": "code",
   "execution_count": null,
   "metadata": {},
   "outputs": [],
   "source": []
  }
 ],
 "metadata": {
  "kernelspec": {
   "display_name": "Python 3",
   "language": "python",
   "name": "python3"
  },
  "language_info": {
   "codemirror_mode": {
    "name": "ipython",
    "version": 3
   },
   "file_extension": ".py",
   "mimetype": "text/x-python",
   "name": "python",
   "nbconvert_exporter": "python",
   "pygments_lexer": "ipython3",
   "version": "3.6.8"
  }
 },
 "nbformat": 4,
 "nbformat_minor": 2
}
