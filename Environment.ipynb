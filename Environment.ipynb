{
 "cells": [
  {
   "cell_type": "markdown",
   "metadata": {},
   "source": [
    "# Asset Allocation"
   ]
  },
  {
   "cell_type": "code",
   "execution_count": 1,
   "metadata": {},
   "outputs": [
    {
     "data": {
      "text/html": [
       "        <script type=\"text/javascript\">\n",
       "        window.PlotlyConfig = {MathJaxConfig: 'local'};\n",
       "        if (window.MathJax) {MathJax.Hub.Config({SVG: {font: \"STIX-Web\"}});}\n",
       "        if (typeof require !== 'undefined') {\n",
       "        require.undef(\"plotly\");\n",
       "        requirejs.config({\n",
       "            paths: {\n",
       "                'plotly': ['https://cdn.plot.ly/plotly-latest.min']\n",
       "            }\n",
       "        });\n",
       "        require(['plotly'], function(Plotly) {\n",
       "            window._Plotly = Plotly;\n",
       "        });\n",
       "        }\n",
       "        </script>\n",
       "        "
      ]
     },
     "metadata": {},
     "output_type": "display_data"
    }
   ],
   "source": [
    "%load_ext autoreload\n",
    "%autoreload 2\n",
    "import os\n",
    "import gym\n",
    "import time\n",
    "import threading\n",
    "import numpy as np\n",
    "import ipywidgets as widgets\n",
    "import plotly\n",
    "import plotly.plotly as py\n",
    "import plotly.graph_objs as go\n",
    "plotly.offline.init_notebook_mode(connected=True)\n",
    "\n",
    "# to save renderings\n",
    "from pyvirtualdisplay import Display\n",
    "display = Display(visible=0, size=(1400, 900))\n",
    "display.start()\n",
    "plotly.io.orca.config.executable = '/opt/anaconda3/bin/orca'\n",
    "\n",
    "dimensions = [\n",
    "    [1920, 1200],\n",
    "    [1024, 674]\n",
    "]\n",
    "dim = dimensions[1]\n",
    "\n",
    "def moving_average(a, n=3) :\n",
    "    ret = np.cumsum(a, dtype=float)\n",
    "    ret[n:] = ret[n:] - ret[:-n]\n",
    "    return ret[n - 1:] / n\n",
    "\n",
    "import tensorflow as tf\n",
    "from tensorflow.python import keras\n",
    "from tensorflow.python.keras import layers\n",
    "\n",
    "config = tf.ConfigProto()\n",
    "config.gpu_options.allow_growth = True\n",
    "tf.enable_eager_execution(config=config)\n",
    "\n",
    "if not os.path.exists('images'):\n",
    "    os.mkdir('images')"
   ]
  },
  {
   "cell_type": "markdown",
   "metadata": {},
   "source": [
    "## Defining a Security"
   ]
  },
  {
   "cell_type": "code",
   "execution_count": 7,
   "metadata": {},
   "outputs": [],
   "source": [
    "class Security:\n",
    "    def __init__(self, mu, sigma, init_price=1.):\n",
    "        self.mu = mu\n",
    "        self.sigma = sigma\n",
    "        self.price = init_price\n",
    "        \n",
    "    def step(self, state=None):\n",
    "        # TODO: price as a function of state\n",
    "        change = 1\n",
    "        if state is None:\n",
    "            change = np.random.normal(self.mu, self.sigma)\n",
    "        self.price *= (1. + change)\n",
    "        return change"
   ]
  },
  {
   "cell_type": "code",
   "execution_count": 8,
   "metadata": {},
   "outputs": [
    {
     "data": {
      "text/plain": [
       "0.023308173585788336"
      ]
     },
     "execution_count": 8,
     "metadata": {},
     "output_type": "execute_result"
    }
   ],
   "source": [
    "sec = Security(0, 0.1)\n",
    "sec.step()"
   ]
  },
  {
   "cell_type": "code",
   "execution_count": 9,
   "metadata": {},
   "outputs": [
    {
     "data": {
      "application/vnd.jupyter.widget-view+json": {
       "model_id": "dab0f3e2196b491d9303a1d9f6af4772",
       "version_major": 2,
       "version_minor": 0
      },
      "text/plain": [
       "FigureWidget({\n",
       "    'data': [{'type': 'scatter',\n",
       "              'uid': '11315cef-1528-4956-a146-879c7795f6c2',\n",
       " …"
      ]
     },
     "metadata": {},
     "output_type": "display_data"
    }
   ],
   "source": [
    "plot_data = []\n",
    "for sec in range(10):\n",
    "    sec = Security(0.005, 0.02)\n",
    "    data = []\n",
    "    T = 100\n",
    "\n",
    "    for t in range(T):\n",
    "        p = sec.step()\n",
    "        data.append(sec.price)\n",
    "        \n",
    "    plot_data.append(go.Scatter(x=np.arange(T), y=data))\n",
    "    \n",
    "go.FigureWidget(\n",
    "    data=plot_data,\n",
    "    layout=go.Layout(\n",
    "        yaxis=dict(\n",
    "            range=(0.,2.5)\n",
    "        )\n",
    "    )\n",
    ")"
   ]
  },
  {
   "cell_type": "markdown",
   "metadata": {},
   "source": [
    "## Security Based Environment"
   ]
  },
  {
   "cell_type": "code",
   "execution_count": 10,
   "metadata": {},
   "outputs": [],
   "source": [
    "class AllocationEnv(gym.Env):\n",
    "    metadata = { 'render.modes': ['human'] }\n",
    "    \n",
    "    def __init__(self, mu=0.0, sigma=0.0, init_capital=1., episode_length=100):\n",
    "        self.mu = mu\n",
    "        self.sigma = sigma\n",
    "        self.init_capital = init_capital\n",
    "        self.episode_length = episode_length\n",
    "        self.security = None\n",
    "        \n",
    "    def set_params(self, mu=None, sigma=None):\n",
    "        if mu is not None:\n",
    "            self.mu = mu\n",
    "            self.security.mu = mu\n",
    "        if sigma is not None:\n",
    "            self.sigma = sigma\n",
    "            self.security.sigma = sigma\n",
    "        \n",
    "    def reset(self):\n",
    "        self.t = 0 # timestep\n",
    "        self.c = self.init_capital # capital\n",
    "        self.security = Security(self.mu, self.sigma)\n",
    "        self.state = [self.security.price, self.mu, self.sigma]\n",
    "        return np.array(self.state)\n",
    "    \n",
    "    def step(self, allocation):\n",
    "        change = self.security.step()\n",
    "        reward = change * allocation\n",
    "        self.c *= (1 + reward)\n",
    "        self.state = [self.security.price, self.mu, self.sigma]\n",
    "        self.t += 1\n",
    "        done = self.t >= self.episode_length or self.c <= 0\n",
    "        info = { 'c': self.c, 't': self.t, 'price': self.security.price }\n",
    "        return np.array(self.state), reward, done, info\n",
    "        \n",
    "    def render(self, mode='human'):\n",
    "        pass"
   ]
  },
  {
   "cell_type": "markdown",
   "metadata": {},
   "source": [
    "## Running Agents"
   ]
  },
  {
   "cell_type": "code",
   "execution_count": 12,
   "metadata": {},
   "outputs": [
    {
     "data": {
      "application/vnd.jupyter.widget-view+json": {
       "model_id": "a740c65e6a0b475c99b59a70efaa6872",
       "version_major": 2,
       "version_minor": 0
      },
      "text/plain": [
       "VBox(children=(FigureWidget({\n",
       "    'data': [{'type': 'scatter',\n",
       "              'uid': 'e5e8de46-3546-4836-b2e5-8…"
      ]
     },
     "metadata": {},
     "output_type": "display_data"
    }
   ],
   "source": [
    "def get_rate_plots(xs, cs, us):\n",
    "    x_fig = go.FigureWidget(\n",
    "        data=[go.Scatter(x=np.arange(len(xs)), y=xs)],\n",
    "        layout=go.Layout(\n",
    "            title=\"Rate\",\n",
    "            template=\"presentation\",\n",
    "            xaxis=dict(\n",
    "                title='t'\n",
    "            ),\n",
    "            yaxis=dict(\n",
    "                title='Rate (x)'\n",
    "            )\n",
    "        )\n",
    "    )\n",
    "\n",
    "    c_fig = go.FigureWidget(\n",
    "        data=[go.Scatter(x=np.arange(len(cs)), y=cs)],\n",
    "        layout=go.Layout(\n",
    "            title=\"Captial\",\n",
    "            template=\"presentation\",\n",
    "            xaxis=dict(\n",
    "                title='t'\n",
    "            ),\n",
    "            yaxis=dict(\n",
    "                title='Capital (c)'\n",
    "            )\n",
    "        )\n",
    "    )\n",
    "\n",
    "    u_fig = go.FigureWidget(\n",
    "        data=[go.Scatter(x=np.arange(len(us)), y=us)],\n",
    "        layout=go.Layout(\n",
    "            title=\"Allocation\",\n",
    "            template=\"presentation\",\n",
    "            xaxis=dict(\n",
    "                title='t'\n",
    "            ),\n",
    "            yaxis=dict(\n",
    "                title='Allocation'\n",
    "            )\n",
    "        )\n",
    "    )\n",
    "\n",
    "    fig = widgets.VBox(\n",
    "        [x_fig, c_fig, u_fig]\n",
    "    )\n",
    "    \n",
    "    return fig\n",
    "\n",
    "class RandomAgent:\n",
    "    def __init__(self):\n",
    "        pass\n",
    "    \n",
    "    def step(self, obs):\n",
    "        return np.random.rand()\n",
    "\n",
    "env = AllocationEnv(0.001, 0.001)\n",
    "agent = RandomAgent()\n",
    "\n",
    "xs = []\n",
    "cs = []\n",
    "us = []\n",
    "\n",
    "done = False\n",
    "obs = env.reset()\n",
    "while not done:\n",
    "    xs.append(obs[0])\n",
    "    action = agent.step(obs)\n",
    "    us.append(action)\n",
    "    obs, reward, done, info = env.step(action)\n",
    "    cs.append(info['c'])\n",
    "    \n",
    "get_rate_plots(xs, cs, us)"
   ]
  },
  {
   "cell_type": "code",
   "execution_count": 13,
   "metadata": {},
   "outputs": [
    {
     "data": {
      "application/vnd.jupyter.widget-view+json": {
       "model_id": "42875aed4fe443c59dbb3a36f19ca474",
       "version_major": 2,
       "version_minor": 0
      },
      "text/plain": [
       "FigureWidget({\n",
       "    'data': [{'type': 'scatter',\n",
       "              'uid': 'aa578e57-2314-4364-9219-f7e3eddb0e10',\n",
       " …"
      ]
     },
     "metadata": {},
     "output_type": "display_data"
    }
   ],
   "source": [
    "def generate_sine(T, amp, fq, phs):\n",
    "    afq = 2 * np.pi * fq\n",
    "    return amp * np.sin(afq * np.arange(T) + phs)\n",
    "\n",
    "T = 100\n",
    "amp = 0.01\n",
    "fq = 2/T\n",
    "phs = 0\n",
    "go.FigureWidget([go.Scatter(y=generate_sine(T, amp, fq, phs) + amp)])"
   ]
  },
  {
   "cell_type": "markdown",
   "metadata": {},
   "source": [
    "# Generate Training Data"
   ]
  },
  {
   "cell_type": "code",
   "execution_count": 14,
   "metadata": {},
   "outputs": [
    {
     "name": "stdout",
     "output_type": "stream",
     "text": [
      "tolerance: 0.2\n",
      "mu coef: 2.0\n"
     ]
    },
    {
     "data": {
      "application/vnd.jupyter.widget-view+json": {
       "model_id": "b17216e00ede4c7ebab729c5490854e0",
       "version_major": 2,
       "version_minor": 0
      },
      "text/plain": [
       "VBox(children=(FigureWidget({\n",
       "    'data': [{'type': 'scatter',\n",
       "              'uid': '99bbd97b-47ea-4776-a7ec-9…"
      ]
     },
     "metadata": {},
     "output_type": "display_data"
    }
   ],
   "source": [
    "T = 100\n",
    "\n",
    "profit_val = generate_sine(T=T, amp=0.001, fq=2/T, phs=np.pi) - 0.0005\n",
    "risk_val = np.abs(generate_sine(T=T, amp=0.01, fq=7/T, phs=np.pi/7) + 0.04)\n",
    "\n",
    "max_mu = np.max(profit_val)\n",
    "max_sigma = np.max(risk_val)\n",
    "\n",
    "profit_fig = go.FigureWidget(\n",
    "    data=[go.Scatter(x=np.arange(len(profit_val)), y=profit_val)],\n",
    "    layout=go.Layout(\n",
    "        title=\"$\\mu$\",\n",
    "        template=\"presentation\",\n",
    "        xaxis=dict(\n",
    "            title='t'\n",
    "        ),\n",
    "        yaxis=dict(\n",
    "            title='$\\mu$'\n",
    "        )\n",
    "    )\n",
    ")\n",
    "\n",
    "risk_fig = go.FigureWidget(\n",
    "    data=[go.Scatter(x=np.arange(len(risk_val)), y=risk_val)],\n",
    "    layout=go.Layout(\n",
    "        title=\"$\\sigma$\",\n",
    "        template=\"presentation\",\n",
    "        xaxis=dict(\n",
    "            title='t'\n",
    "        ),\n",
    "        yaxis=dict(\n",
    "            title='$\\sigma$'\n",
    "        )\n",
    "    )\n",
    ")\n",
    "\n",
    "profit_sent = profit_val/max_mu\n",
    "risk_sent = (max_sigma - risk_val)/max_sigma\n",
    "\n",
    "alloc = profit_sent# * (risk_sent * sigma_coef)\n",
    "mu_coef = 2.\n",
    "tolerance = 0.2\n",
    "print(f\"tolerance: {tolerance}\")\n",
    "print(f\"mu coef: {mu_coef}\")\n",
    "alloc += tolerance\n",
    "alloc *= mu_coef\n",
    "alloc = np.min([alloc, np.ones_like(alloc)], axis=0)\n",
    "\n",
    "alloc_fig = go.FigureWidget(\n",
    "    data=[go.Scatter(x=np.arange(len(alloc)), y=np.max([alloc, np.zeros_like(alloc)], axis=0))],\n",
    "    layout=go.Layout(\n",
    "        title=\"Allocation\",\n",
    "        template=\"presentation\",\n",
    "        xaxis=dict(\n",
    "            title='t'\n",
    "        ),\n",
    "        yaxis=dict(\n",
    "            title='Allocation',\n",
    "            range=(-0.1, 1.1)\n",
    "        )\n",
    "    )\n",
    ")\n",
    "\n",
    "fig = widgets.VBox(\n",
    "        [profit_fig, risk_fig, alloc_fig]\n",
    "    )\n",
    "fig"
   ]
  },
  {
   "cell_type": "code",
   "execution_count": 15,
   "metadata": {},
   "outputs": [
    {
     "data": {
      "application/vnd.jupyter.widget-view+json": {
       "model_id": "08ec382a5dd346c28f2db7dfbd1be52a",
       "version_major": 2,
       "version_minor": 0
      },
      "text/plain": [
       "VBox(children=(FigureWidget({\n",
       "    'data': [{'type': 'scatter',\n",
       "              'uid': '619984db-deab-46ca-a9ae-e…"
      ]
     },
     "metadata": {},
     "output_type": "display_data"
    }
   ],
   "source": [
    "class InsiderAgent:\n",
    "    def __init__(self, max_mu, mu_coef=1., tolerance=1.):\n",
    "        self.max_mu = max_mu\n",
    "        self.mu_coef = mu_coef\n",
    "        self.tolerance = tolerance\n",
    "    \n",
    "    def step(self, obs):\n",
    "        price = obs[0]\n",
    "        mu = obs[1]\n",
    "        sigma = obs[2]\n",
    "        profit_sent = mu/self.max_mu\n",
    "        alloc = (profit_sent + self.tolerance)\n",
    "        alloc *= self.mu_coef\n",
    "        return np.min([np.max([alloc, 0]), 1])\n",
    "\n",
    "env = AllocationEnv()\n",
    "agent = InsiderAgent(\n",
    "    max_mu=max_mu,\n",
    "    mu_coef=mu_coef,\n",
    "    tolerance=tolerance\n",
    ")\n",
    "\n",
    "xs = []\n",
    "cs = []\n",
    "us = []\n",
    "\n",
    "done = False\n",
    "obs = env.reset()\n",
    "t = 0\n",
    "while not done:\n",
    "    xs.append(obs[0])\n",
    "    action = agent.step(obs)\n",
    "    us.append(action)\n",
    "    obs, reward, done, info = env.step(action)\n",
    "    cs.append(info['c'])\n",
    "    env.set_params(mu=profit_val[t], sigma=risk_val[t])\n",
    "    t += 1\n",
    "    \n",
    "get_rate_plots(xs, cs, us)"
   ]
  },
  {
   "cell_type": "markdown",
   "metadata": {},
   "source": [
    "# Testing our Agent over Multiple Episodes"
   ]
  },
  {
   "cell_type": "code",
   "execution_count": 16,
   "metadata": {},
   "outputs": [
    {
     "name": "stdout",
     "output_type": "stream",
     "text": [
      "Episodes:     1000\n",
      "Mean Rate:    0.9590322556662907\n",
      "Mean Capital: 1.0136140261490576\n"
     ]
    },
    {
     "data": {
      "application/vnd.jupyter.widget-view+json": {
       "model_id": "a3bbf1fecb9c486c998d98b3353f5141",
       "version_major": 2,
       "version_minor": 0
      },
      "text/plain": [
       "FigureWidget({\n",
       "    'data': [{'name': 'Final Rate',\n",
       "              'type': 'scatter',\n",
       "              'uid': '0e2f…"
      ]
     },
     "metadata": {},
     "output_type": "display_data"
    }
   ],
   "source": [
    "def run_episode(episodes, env, agent):\n",
    "    capitals = []\n",
    "    rates = []\n",
    "    for episode in range(episodes):\n",
    "        done = False\n",
    "        obs = env.reset()\n",
    "        t = 0\n",
    "        cs = []\n",
    "        rs = []\n",
    "        while not done:\n",
    "            action = agent.step(obs)\n",
    "            obs, reward, done, info = env.step(action)\n",
    "            cs.append(info['c'])\n",
    "            rs.append(info['price'])\n",
    "            env.set_params(mu=profit_val[t], sigma=risk_val[t])\n",
    "            t += 1\n",
    "\n",
    "        capitals.append(info['c'])\n",
    "        rates.append(info['price'])\n",
    "        \n",
    "    return capitals, rates\n",
    "\n",
    "env = AllocationEnv()\n",
    "agent = InsiderAgent(\n",
    "    max_mu=max_mu,\n",
    "    mu_coef=mu_coef,\n",
    "    tolerance=tolerance\n",
    ")\n",
    "\n",
    "episodes = 1000\n",
    "capitals, rates = run_episode(episodes, env, agent)\n",
    "\n",
    "print(f\"Episodes:     {episodes}\")\n",
    "print(f\"Mean Rate:    {np.mean(rates)}\")\n",
    "print(f\"Mean Capital: {np.mean(capitals)}\")\n",
    "\n",
    "go.FigureWidget(\n",
    "    data=[\n",
    "        go.Scatter(x=np.arange(len(rates)), y=rates, name='Final Rate'),\n",
    "        go.Scatter(x=np.arange(len(capitals)), y=capitals, name='Final Capital'),\n",
    "        go.Scatter(x=np.arange(len(rates)), y=np.ones_like(rates), name='Riskless Rate')\n",
    "    ],\n",
    "    layout=go.Layout(\n",
    "        title=\"$\\mu$\",\n",
    "        template=\"presentation\",\n",
    "        xaxis=dict(\n",
    "            title='t'\n",
    "        ),\n",
    "        yaxis=dict(\n",
    "            title='$\\mu$'\n",
    "        )\n",
    "    )\n",
    ")"
   ]
  },
  {
   "cell_type": "markdown",
   "metadata": {},
   "source": [
    "## Training Session"
   ]
  },
  {
   "cell_type": "code",
   "execution_count": 17,
   "metadata": {},
   "outputs": [
    {
     "name": "stdout",
     "output_type": "stream",
     "text": [
      "0, 1, 2, 3, 4, 5, 6, 7, 8, 9, "
     ]
    },
    {
     "data": {
      "application/vnd.jupyter.widget-view+json": {
       "model_id": "07e99238591b4e71be71c8c5f11b7d67",
       "version_major": 2,
       "version_minor": 0
      },
      "text/plain": [
       "FigureWidget({\n",
       "    'data': [{'type': 'heatmap',\n",
       "              'uid': 'b41f29c4-d4e4-4e52-9d59-cdb3310d697d',\n",
       " …"
      ]
     },
     "metadata": {},
     "output_type": "display_data"
    }
   ],
   "source": [
    "def run_episode(episodes, env, agent):\n",
    "    capitals = []\n",
    "    rates = []\n",
    "    for episode in range(episodes):\n",
    "        done = False\n",
    "        obs = env.reset()\n",
    "        t = 0\n",
    "        cs = []\n",
    "        rs = []\n",
    "        while not done:\n",
    "            action = agent.step(obs)\n",
    "            obs, reward, done, info = env.step(action)\n",
    "            cs.append(info['c'])\n",
    "            rs.append(info['price'])\n",
    "            env.set_params(mu=profit_val[t], sigma=risk_val[t])\n",
    "            t += 1\n",
    "\n",
    "        capitals.append(info['c'])\n",
    "        rates.append(info['price'])\n",
    "    return capitals, rates\n",
    "\n",
    "coef_dim = 10\n",
    "coef_space = np.linspace(0, 2, coef_dim)\n",
    "cap_space = np.empty((coef_dim, coef_dim))\n",
    "for idx, mu_coef in enumerate(coef_space):\n",
    "    print(idx, end=', ')\n",
    "    for idy, tol in enumerate(coef_space):\n",
    "        env = AllocationEnv()\n",
    "        agent = InsiderAgent(\n",
    "            max_mu=max_mu,\n",
    "            mu_coef=mu_coef,\n",
    "            tolerance=tol\n",
    "        )\n",
    "\n",
    "        episodes = 100\n",
    "        capitals, rates = run_episode(episodes, env, agent)\n",
    "        cap_space[idx, idy] = np.mean(capitals)\n",
    "        \n",
    "# Plot\n",
    "go.FigureWidget(\n",
    "    data=[\n",
    "        go.Heatmap(\n",
    "            x=coef_space,\n",
    "            y=coef_space,\n",
    "            z=cap_space,\n",
    "            zsmooth='best'\n",
    "        )\n",
    "    ],\n",
    "    layout=go.Layout(\n",
    "        title=\"Average Returns\",\n",
    "        template=\"presentation\",\n",
    "        xaxis=dict(\n",
    "            title='$\\mu$'\n",
    "        ),\n",
    "        yaxis=dict(\n",
    "            title='tolerance'\n",
    "        ),\n",
    "        width=500,\n",
    "        height=500\n",
    "    )\n",
    ")"
   ]
  },
  {
   "cell_type": "markdown",
   "metadata": {},
   "source": [
    "#### Setup Parallel Processing"
   ]
  },
  {
   "cell_type": "code",
   "execution_count": 18,
   "metadata": {},
   "outputs": [],
   "source": [
    "import multiprocessing as mp\n",
    "import sqlalchemy as db\n",
    "import pandas as pd\n",
    "import time\n",
    "\n",
    "engine = db.create_engine('sqlite:///data.sqlite')\n",
    "connection = engine.connect()\n",
    "metadata = db.MetaData()\n",
    "\n",
    "episode_table = db.Table(\n",
    "    'episode', metadata,\n",
    "    db.Column('id', db.Integer(), primary_key=True),\n",
    "    db.Column('session', db.Integer(), nullable=False),\n",
    "    db.Column('idx', db.Float(), nullable=False),\n",
    "    db.Column('idy', db.Float(), nullable=False),\n",
    "    db.Column('capital', db.Float(), nullable=False),\n",
    "    db.Column('std', db.Float(), nullable=False)\n",
    ")\n",
    "\n",
    "metadata.create_all(engine)"
   ]
  },
  {
   "cell_type": "markdown",
   "metadata": {},
   "source": [
    "#### Execute Parallel Jobs"
   ]
  },
  {
   "cell_type": "code",
   "execution_count": 19,
   "metadata": {},
   "outputs": [
    {
     "name": "stdout",
     "output_type": "stream",
     "text": [
      "Sun Jul 28 19:30:23 2019: Jobs Complete - 72/2500\n",
      "Sun Jul 28 19:30:24 2019: Jobs Complete - 153/2500\n",
      "Sun Jul 28 19:30:25 2019: Jobs Complete - 234/2500\n",
      "Sun Jul 28 19:30:27 2019: Jobs Complete - 313/2500\n",
      "Sun Jul 28 19:30:28 2019: Jobs Complete - 394/2500\n",
      "Sun Jul 28 19:30:29 2019: Jobs Complete - 476/2500\n",
      "Sun Jul 28 19:30:30 2019: Jobs Complete - 554/2500\n",
      "Sun Jul 28 19:30:31 2019: Jobs Complete - 635/2500\n",
      "Sun Jul 28 19:30:32 2019: Jobs Complete - 716/2500\n",
      "Sun Jul 28 19:30:33 2019: Jobs Complete - 795/2500\n",
      "Sun Jul 28 19:30:34 2019: Jobs Complete - 871/2500\n",
      "Sun Jul 28 19:30:35 2019: Jobs Complete - 950/2500\n",
      "Sun Jul 28 19:30:36 2019: Jobs Complete - 1031/2500\n",
      "Sun Jul 28 19:30:37 2019: Jobs Complete - 1112/2500\n",
      "Sun Jul 28 19:30:38 2019: Jobs Complete - 1191/2500\n",
      "Sun Jul 28 19:30:39 2019: Jobs Complete - 1271/2500\n",
      "Sun Jul 28 19:30:40 2019: Jobs Complete - 1353/2500\n",
      "Sun Jul 28 19:30:41 2019: Jobs Complete - 1433/2500\n",
      "Sun Jul 28 19:30:42 2019: Jobs Complete - 1515/2500\n",
      "Sun Jul 28 19:30:43 2019: Jobs Complete - 1597/2500\n",
      "Sun Jul 28 19:30:44 2019: Jobs Complete - 1677/2500\n",
      "Sun Jul 28 19:30:45 2019: Jobs Complete - 1755/2500\n",
      "Sun Jul 28 19:30:46 2019: Jobs Complete - 1835/2500\n",
      "Sun Jul 28 19:30:47 2019: Jobs Complete - 1914/2500\n",
      "Sun Jul 28 19:30:48 2019: Jobs Complete - 1995/2500\n",
      "Sun Jul 28 19:30:49 2019: Jobs Complete - 2077/2500\n",
      "Sun Jul 28 19:30:50 2019: Jobs Complete - 2158/2500\n",
      "Sun Jul 28 19:30:51 2019: Jobs Complete - 2236/2500\n",
      "Sun Jul 28 19:30:52 2019: Jobs Complete - 2315/2500\n",
      "Sun Jul 28 19:30:53 2019: Jobs Complete - 2392/2500\n",
      "Sun Jul 28 19:30:54 2019: Jobs Complete - 2469/2500\n"
     ]
    },
    {
     "ename": "TypeError",
     "evalue": "object of type 'int' has no len()",
     "output_type": "error",
     "traceback": [
      "\u001b[0;31m---------------------------------------------------------------------------\u001b[0m",
      "\u001b[0;31mTypeError\u001b[0m                                 Traceback (most recent call last)",
      "\u001b[0;32m<ipython-input-19-9ff5f6a9dd8b>\u001b[0m in \u001b[0;36m<module>\u001b[0;34m()\u001b[0m\n\u001b[1;32m     64\u001b[0m         \u001b[0mprint\u001b[0m\u001b[0;34m(\u001b[0m\u001b[0;34mf\"{time.strftime('%c')}: Jobs Complete - {completed_jobs}/{total_job_count}\"\u001b[0m\u001b[0;34m)\u001b[0m\u001b[0;34m\u001b[0m\u001b[0;34m\u001b[0m\u001b[0m\n\u001b[1;32m     65\u001b[0m         \u001b[0mlast_time\u001b[0m \u001b[0;34m=\u001b[0m \u001b[0mcurrent_time\u001b[0m\u001b[0;34m\u001b[0m\u001b[0;34m\u001b[0m\u001b[0m\n\u001b[0;32m---> 66\u001b[0;31m \u001b[0mprint\u001b[0m\u001b[0;34m(\u001b[0m\u001b[0;34mf\"{time.strftime('%c')}: Jobs Complete - {len(completed_jobs)}/{total_job_count}\"\u001b[0m\u001b[0;34m)\u001b[0m\u001b[0;34m\u001b[0m\u001b[0;34m\u001b[0m\u001b[0m\n\u001b[0m",
      "\u001b[0;31mTypeError\u001b[0m: object of type 'int' has no len()"
     ]
    }
   ],
   "source": [
    "def episode_worker(session, episodes, args):\n",
    "    env = AllocationEnv()\n",
    "    agent = InsiderAgent(**args)\n",
    "    capitals, rates = run_episode(episodes, env, agent)\n",
    "    query = db.insert(episode_table).values(\n",
    "        session=session,\n",
    "        idx=args['mu_coef'],\n",
    "        idy=args['tolerance'],\n",
    "        capital=np.mean(capitals),\n",
    "        std=np.std(capitals)\n",
    "    )\n",
    "    connection = engine.connect()\n",
    "    connection.execute(query)\n",
    "    connection.close()\n",
    "\n",
    "# Create Process Jobs\n",
    "coef_dim = 50\n",
    "idx_space = np.linspace(1, 10, coef_dim)\n",
    "idy_space = np.linspace(0, 2, coef_dim)\n",
    "cap_space = np.empty((coef_dim, coef_dim))\n",
    "jobs = []\n",
    "\n",
    "last_session_id = connection.execute(\n",
    "    db.select([db.func.max(episode_table.columns.session)])\n",
    ").fetchone()[0]\n",
    "if last_session_id is None:\n",
    "    last_session_id = -1\n",
    "session = last_session_id + 1\n",
    "episodes = 25\n",
    "for idx, mu_coef in enumerate(idx_space):\n",
    "    for idy, tol in enumerate(idy_space):\n",
    "        args = {\n",
    "            'max_mu': max_mu,\n",
    "            'mu_coef': mu_coef,\n",
    "            'tolerance': tol\n",
    "        }\n",
    "        p = mp.Process(target=episode_worker, args=(session, episodes, args))\n",
    "        jobs.append(p)\n",
    "        \n",
    "# Run Jobs\n",
    "total_job_count = len(jobs)\n",
    "running_jobs = []\n",
    "completed_jobs = 0\n",
    "max_parallel_runs = 20\n",
    "start_time = time.time()\n",
    "last_time = start_time\n",
    "while completed_jobs < total_job_count:\n",
    "    while len(running_jobs) < max_parallel_runs and len(jobs):\n",
    "        p = jobs.pop()\n",
    "        p.start()\n",
    "        running_jobs.append(p)\n",
    "        \n",
    "    _running_jobs = []\n",
    "    for job in running_jobs:\n",
    "        if job.is_alive():\n",
    "            _running_jobs.append(job)\n",
    "        else:\n",
    "            completed_jobs += 1\n",
    "    running_jobs = _running_jobs\n",
    "    \n",
    "    # Logging\n",
    "    current_time = time.time()\n",
    "    if current_time - last_time > 1:\n",
    "        print(f\"{time.strftime('%c')}: Jobs Complete - {completed_jobs}/{total_job_count}\")\n",
    "        last_time = current_time\n",
    "print(f\"{time.strftime('%c')}: Jobs Complete - {completed_jobs}/{total_job_count}\")"
   ]
  },
  {
   "cell_type": "markdown",
   "metadata": {},
   "source": [
    "#### Read Database into DataFrame and Plot"
   ]
  },
  {
   "cell_type": "code",
   "execution_count": 28,
   "metadata": {},
   "outputs": [
    {
     "name": "stdout",
     "output_type": "stream",
     "text": [
      "               id  session          idx          idy      capital          std\n",
      "count  2500.00000   2500.0  2500.000000  2500.000000  2500.000000  2500.000000\n",
      "mean   5765.50000      4.0     5.500000     1.000000     0.983575     0.282745\n",
      "std     721.83216      0.0     2.651098     0.589133     0.019262     0.034000\n",
      "min    4516.00000      4.0     1.000000     0.000000     0.939053     0.167201\n",
      "25%    5140.75000      4.0     3.204082     0.489796     0.979378     0.262339\n",
      "50%    5765.50000      4.0     5.500000     1.000000     0.987945     0.277656\n",
      "75%    6390.25000      4.0     7.795918     1.510204     0.996198     0.309730\n",
      "max    7015.00000      4.0    10.000000     2.000000     1.013757     0.364594\n"
     ]
    },
    {
     "data": {
      "application/vnd.jupyter.widget-view+json": {
       "model_id": "f9efe82194d545bcb8ba4f604628e733",
       "version_major": 2,
       "version_minor": 0
      },
      "text/plain": [
       "FigureWidget({\n",
       "    'data': [{'type': 'heatmap',\n",
       "              'uid': '6248884d-d725-419b-85d9-929a34631ef4',\n",
       " …"
      ]
     },
     "metadata": {},
     "output_type": "display_data"
    }
   ],
   "source": [
    "query = db.select([episode_table]).where(episode_table.columns.session == session)\n",
    "result = connection.execute(query).fetchall()\n",
    "df = pd.DataFrame(result, columns=episode_table.columns.keys())\n",
    "print(df.describe())\n",
    "df.head()\n",
    "\n",
    "# Plot\n",
    "go.FigureWidget(\n",
    "    data=[\n",
    "        go.Heatmap(\n",
    "            x=df.idx,\n",
    "            y=df.idy,\n",
    "            z=df.capital,\n",
    "            zmid=1.\n",
    "        )\n",
    "    ],\n",
    "    layout=go.Layout(\n",
    "        title=\"Average Returns\",\n",
    "        template=\"presentation\",\n",
    "        xaxis=dict(\n",
    "            title='$\\mu$'\n",
    "        ),\n",
    "        yaxis=dict(\n",
    "            title='tolerance'\n",
    "        ),\n",
    "        width=500,\n",
    "        height=500\n",
    "    )\n",
    ")"
   ]
  },
  {
   "cell_type": "code",
   "execution_count": 22,
   "metadata": {},
   "outputs": [
    {
     "data": {
      "application/vnd.jupyter.widget-view+json": {
       "model_id": "2ec73c11d83d46048fe42069234d18ca",
       "version_major": 2,
       "version_minor": 0
      },
      "text/plain": [
       "FigureWidget({\n",
       "    'data': [{'type': 'heatmap',\n",
       "              'uid': '35146cb1-3568-45e2-80ee-3a743d0804fc',\n",
       " …"
      ]
     },
     "metadata": {},
     "output_type": "display_data"
    }
   ],
   "source": [
    "go.FigureWidget(\n",
    "    data=[\n",
    "        go.Heatmap(\n",
    "            x=df.idx,\n",
    "            y=df.idy,\n",
    "            z=df['std']\n",
    "        )\n",
    "    ],\n",
    "    layout=go.Layout(\n",
    "        title=\"Standard Deviation\",\n",
    "        template=\"presentation\",\n",
    "        xaxis=dict(\n",
    "            title='$\\mu$'\n",
    "        ),\n",
    "        yaxis=dict(\n",
    "            title='tolerance'\n",
    "        ),\n",
    "        width=500,\n",
    "        height=500\n",
    "    )\n",
    ")"
   ]
  },
  {
   "cell_type": "markdown",
   "metadata": {},
   "source": [
    "## Learning Agent"
   ]
  },
  {
   "cell_type": "code",
   "execution_count": 29,
   "metadata": {},
   "outputs": [],
   "source": [
    "class CriticModel(keras.Model):\n",
    "    def __init__(self, observation_size, action_size):\n",
    "        super(CriticModel, self).__init__()\n",
    "        self.observation_size = observation_size\n",
    "        self.action_size = action_size\n",
    "        \n",
    "        self.value_dense_1 = layers.Dense(128, activation='relu')\n",
    "        self.value_dense_2 = layers.Dense(128, activation='relu')\n",
    "        self.values = layers.Dense(1)\n",
    "\n",
    "    def call(self, inputs):\n",
    "        input_tensor = tf.convert_to_tensor(inputs, dtype=tf.float32)\n",
    "        y = self.value_dense_1(input_tensor)\n",
    "        y = self.value_dense_2(y)\n",
    "        values = self.values(y)\n",
    "        return values\n",
    "    \n",
    "class ActorModel(keras.Model):\n",
    "    def __init__(self, observation_size, action_size):\n",
    "        super(ActorModel, self).__init__()\n",
    "        self.observation_size = observation_size\n",
    "        self.action_size = action_size\n",
    "        \n",
    "        self.policy_dense_1 = layers.Dense(128, activation='relu')\n",
    "        self.policy_dense_2 = layers.Dense(128, activation='relu')\n",
    "        self.policy_logits = layers.Dense(action_size)\n",
    "\n",
    "    def call(self, inputs):\n",
    "        input_tensor = tf.convert_to_tensor(inputs, dtype=tf.float32)\n",
    "        x = self.policy_dense_1(input_tensor)\n",
    "        x = self.policy_dense_2(x)\n",
    "        logits = self.policy_logits(x)\n",
    "        return logits\n",
    "    \n",
    "class ActorCriticModel(keras.Model):\n",
    "    def __init__(self, observation_size, action_size):\n",
    "        super(ActorCriticModel, self).__init__()\n",
    "        self.observation_size = observation_size\n",
    "        self.action_size = action_size\n",
    "        self.actor = ActorModel(observation_size, action_size)\n",
    "        self.critic = CriticModel(observation_size, action_size)\n",
    "        \n",
    "    def call(self, inputs):\n",
    "        return self.actor(inputs), self.critic(inputs)\n",
    "\n",
    "class HyperParameters:\n",
    "    def __init__(self, **kw):\n",
    "        self.gamma = 0.99\n",
    "        self.vf_coef = 0.5\n",
    "        self.ent_coef = 0.01\n",
    "        self.lr = 0.001\n",
    "        self.__dict__.update(kw)\n",
    "        \n",
    "def discrete_loss(a2c, observations, actions, probabilities, discounted_rewards, hyperparameters, verbose=False, normalize_discounted_rewards=True, *args, **kargs):\n",
    "    hp = hyperparameters\n",
    "    \n",
    "    logits, values = a2c(tf.convert_to_tensor(observations, dtype=tf.float32))\n",
    "    values = tf.squeeze(values)\n",
    "\n",
    "    if normalize_discounted_rewards:\n",
    "        discounted_rewards -= np.mean(discounted_rewards)\n",
    "        discounted_rewards /= np.std(discounted_rewards)\n",
    "\n",
    "    discounted_rewards = tf.convert_to_tensor(np.array(discounted_rewards), dtype=tf.float32)\n",
    "    advantages =  tf.stop_gradient(discounted_rewards) - values\n",
    "\n",
    "    critic_loss = advantages ** 2\n",
    "\n",
    "    policy = tf.nn.softmax(logits)\n",
    "    entropy = tf.nn.softmax_cross_entropy_with_logits_v2(labels=policy, logits=logits)\n",
    "\n",
    "    actor_loss = tf.nn.sparse_softmax_cross_entropy_with_logits(labels=actions, logits=logits)\n",
    "    actor_loss *= tf.stop_gradient(advantages)\n",
    "    actor_loss -= hp.ent_coef * entropy\n",
    "\n",
    "    total_loss = tf.reduce_mean(hp.vf_coef * critic_loss + actor_loss)\n",
    "\n",
    "    if verbose:\n",
    "        variables = dir()[:]\n",
    "        for key in variables:\n",
    "            print(key)\n",
    "            print(locals()[key])\n",
    "    \n",
    "    return total_loss\n",
    "\n",
    "def continuous_loss(a2c, observations, actions, probabilities, discounted_rewards, hyperparameters, verbose=False, normalize_discounted_rewards=True, *args, **kargs):\n",
    "    hp = hyperparameters\n",
    "    \n",
    "    logits, values = a2c(tf.convert_to_tensor(observations, dtype=tf.float32))\n",
    "    values = tf.squeeze(values)\n",
    "\n",
    "    if normalize_discounted_rewards:\n",
    "        discounted_rewards -= np.mean(discounted_rewards)\n",
    "        discounted_rewards /= np.std(discounted_rewards)\n",
    "\n",
    "    discounted_rewards = tf.convert_to_tensor(np.array(discounted_rewards), dtype=tf.float32)\n",
    "    advantages =  tf.stop_gradient(discounted_rewards) - values\n",
    "\n",
    "    critic_loss = advantages ** 2\n",
    "\n",
    "    policy = tf.nn.softmax(logits)\n",
    "    entropy = tf.nn.softmax_cross_entropy_with_logits_v2(labels=policy, logits=logits)\n",
    "\n",
    "    actor_loss = tf.nn.sparse_softmax_cross_entropy_with_logits(labels=actions, logits=logits)\n",
    "    actor_loss *= tf.stop_gradient(advantages)\n",
    "    actor_loss -= hp.ent_coef * entropy\n",
    "\n",
    "    total_loss = tf.reduce_mean(hp.vf_coef * critic_loss + actor_loss)\n",
    "\n",
    "    if verbose:\n",
    "        variables = dir()[:]\n",
    "        for key in variables:\n",
    "            print(key)\n",
    "            print(locals()[key])\n",
    "    \n",
    "    return total_loss\n",
    "\n",
    "def run(env, a2c, verbose=False, *args, **kargs):\n",
    "    obs = env.reset()\n",
    "    done = False\n",
    "    rewards = []\n",
    "    actions = []\n",
    "    probabilities = []\n",
    "    observations = []\n",
    "        \n",
    "    while not done:\n",
    "        logits, _ = a2c(tf.convert_to_tensor(obs[None, :], dtype=tf.float32))\n",
    "        probs = tf.nn.softmax(logits)\n",
    "        action = np.random.choice(env.action_space.n, p=probs.numpy()[0])\n",
    "\n",
    "        next_obs, reward, done, info = env.step(action)\n",
    "        \n",
    "        if done:\n",
    "            reward = -1\n",
    "        \n",
    "        observations.append(obs)\n",
    "        actions.append(action)\n",
    "        probabilities.append(probs)\n",
    "        rewards.append(reward)\n",
    "        \n",
    "        obs = next_obs\n",
    "        total_reward = np.sum(rewards)\n",
    "        \n",
    "        if verbose:\n",
    "            variables = dir()[:]\n",
    "            for key in variables:\n",
    "                print(key)\n",
    "                print(locals()[key])\n",
    "            \n",
    "        if done:\n",
    "            return observations, actions, probabilities, rewards\n",
    "        \n",
    "def learn(a2c, loss, observations, actions, probabilities, discounted_rewards, hyperparameters, *args, **kargs):\n",
    "    opt = tf.train.AdamOptimizer(hp.lr, use_locking=True)\n",
    "    with tf.GradientTape() as tape:\n",
    "        total_loss = loss(a2c, observations, actions, probabilities, discounted_rewards, hyperparameters=hp, **kargs)\n",
    "\n",
    "    grads = tape.gradient(total_loss, a2c.trainable_weights)\n",
    "    opt.apply_gradients(zip(grads, a2c.trainable_weights))\n",
    "    \n",
    "def get_discounted_rewards(rewards, gamma=0.99):\n",
    "    discounted_rewards = []\n",
    "    reward_sum = 0\n",
    "    for reward in rewards[::-1]:\n",
    "        reward_sum = reward + gamma * reward_sum\n",
    "        discounted_rewards.append(reward_sum)\n",
    "    discounted_rewards.reverse()\n",
    "    return discounted_rewards"
   ]
  },
  {
   "cell_type": "code",
   "execution_count": 35,
   "metadata": {},
   "outputs": [
    {
     "name": "stdout",
     "output_type": "stream",
     "text": [
      "Ep 23 (0.420s): 22.5\n",
      "Ep 31 (12.279s): 61.7\n",
      "Ep 35 (25.005s): 98.3\n",
      "Ep 40 (38.531s): 122.0\n",
      "Ep 43 (52.931s): 161.3\n",
      "Ep 48 (68.033s): 153.0\n",
      "83.8802137374878\n"
     ]
    }
   ],
   "source": [
    "env = gym.make('CartPole-v1')\n",
    "#env = gym.make('LunarLander-v2')\n",
    "a2c = ActorCriticModel(env.observation_space.shape[0], env.action_space.n)\n",
    "a2c(tf.convert_to_tensor(np.random.random((1, a2c.observation_size)), dtype=tf.float32))\n",
    "\n",
    "hp = HyperParameters(gamma = 0.99, vf_coef = 0.5, ent_coef = 0.001, lr = 0.001)\n",
    "\n",
    "start_time = time.time()\n",
    "batch = {\n",
    "    \"observations\": [],\n",
    "    \"actions\": [],\n",
    "    \"probabilities\": [],\n",
    "    \"discounted_rewards\": []\n",
    "}\n",
    "\n",
    "ep_rewards = []\n",
    "episodes = 50\n",
    "episode = 0\n",
    "epochs = 64\n",
    "batch_size = 512\n",
    "while episode < episodes:\n",
    "    observations, actions, probs, rewards = run(env, a2c, verbose=0)\n",
    "    ep_rewards.append(np.sum(rewards))\n",
    "    \n",
    "    # Calculate True Discounted Rewards\n",
    "    discounted_rewards = get_discounted_rewards(rewards, hp.gamma)\n",
    "    \n",
    "    batch['observations'] += observations\n",
    "    batch['actions'] += actions\n",
    "    batch['probabilities'] += probs\n",
    "    batch['discounted_rewards'] += discounted_rewards\n",
    "\n",
    "    if len(batch['observations']) >= batch_size:\n",
    "        print(f\"Ep {episode} ({time.time() - start_time:.3f}s): {np.mean(ep_rewards[-10:])}\")\n",
    "        for epoch in range(epochs):\n",
    "            learn(a2c, discrete_loss, hyperparameters=hp, lock_actor=True, **batch)\n",
    "        batch = {\n",
    "            \"observations\": [],\n",
    "            \"actions\": [],\n",
    "            \"probabilities\": [],\n",
    "            \"discounted_rewards\": []\n",
    "        }\n",
    "    episode += 1\n",
    "    \n",
    "end_time = time.time()\n",
    "print(end_time - start_time)"
   ]
  },
  {
   "cell_type": "code",
   "execution_count": 37,
   "metadata": {},
   "outputs": [
    {
     "data": {
      "application/vnd.plotly.v1+json": {
       "config": {
        "linkText": "Export to plot.ly",
        "plotlyServerURL": "https://plot.ly",
        "responsive": true,
        "showLink": false
       },
       "data": [
        {
         "type": "scatter",
         "uid": "c6bf0976-d8eb-4572-9261-ad070fd90417",
         "x": [
          0,
          1,
          2,
          3,
          4,
          5,
          6,
          7,
          8,
          9,
          10,
          11,
          12,
          13,
          14,
          15,
          16,
          17,
          18,
          19,
          20,
          21,
          22,
          23,
          24,
          25,
          26,
          27,
          28,
          29,
          30,
          31,
          32,
          33,
          34,
          35,
          36,
          37,
          38,
          39,
          40,
          41,
          42,
          43,
          44,
          45,
          46,
          47,
          48,
          49
         ],
         "y": [
          20.2,
          21.4,
          17.4,
          17.4,
          15.8,
          18.4,
          17,
          16.8,
          18.6,
          22,
          18.6,
          21.6,
          23.4,
          23.2,
          22.2,
          25.6,
          26.2,
          23.4,
          19.8,
          22.8,
          34,
          43.2,
          54.4,
          70,
          73.2,
          69,
          63.6,
          69,
          73.2,
          88.6,
          115.2,
          133,
          136.4,
          135.4,
          131,
          116.2,
          111,
          119.6,
          157.4,
          191.6,
          191.2,
          192.2,
          185.4,
          149.8,
          114.4,
          120
         ]
        }
       ],
       "layout": {
        "autosize": true,
        "template": {
         "data": {
          "scatter": [
           {
            "line": {
             "width": 3
            },
            "marker": {
             "size": 9
            },
            "type": "scatter"
           }
          ],
          "scatter3d": [
           {
            "line": {
             "width": 3
            },
            "marker": {
             "size": 9
            },
            "type": "scatter3d"
           }
          ],
          "scattergeo": [
           {
            "line": {
             "width": 3
            },
            "marker": {
             "size": 9
            },
            "type": "scattergeo"
           }
          ],
          "scattergl": [
           {
            "line": {
             "width": 3
            },
            "marker": {
             "size": 9
            },
            "type": "scattergl"
           }
          ],
          "scatterpolar": [
           {
            "line": {
             "width": 3
            },
            "marker": {
             "size": 9
            },
            "type": "scatterpolar"
           }
          ],
          "scatterpolargl": [
           {
            "line": {
             "width": 3
            },
            "marker": {
             "size": 9
            },
            "type": "scatterpolargl"
           }
          ],
          "scatterternary": [
           {
            "line": {
             "width": 3
            },
            "marker": {
             "size": 9
            },
            "type": "scatterternary"
           }
          ],
          "table": [
           {
            "cells": {
             "height": 30
            },
            "header": {
             "height": 36
            },
            "type": "table"
           }
          ]
         },
         "layout": {
          "font": {
           "size": 18
          }
         }
        },
        "title": {
         "text": "Reward Per Episode"
        },
        "xaxis": {
         "autorange": true,
         "range": [
          0,
          45
         ],
         "type": "linear"
        },
        "yaxis": {
         "autorange": true,
         "range": [
          6.000000000000002,
          202
         ],
         "type": "linear"
        }
       }
      },
      "image/png": "[encoded data removed]",
      "text/html": [
       "<div>\n",
       "        \n",
       "        \n",
       "            <div id=\"3c199cd5-1214-4b6b-9dbf-ad4b211e7173\" class=\"plotly-graph-div\" style=\"height:525px; width:100%;\"></div>\n",
       "            <script type=\"text/javascript\">\n",
       "                require([\"plotly\"], function(Plotly) {\n",
       "                    window.PLOTLYENV=window.PLOTLYENV || {};\n",
       "                    window.PLOTLYENV.BASE_URL='https://plot.ly';\n",
       "                    \n",
       "                if (document.getElementById(\"3c199cd5-1214-4b6b-9dbf-ad4b211e7173\")) {\n",
       "                    Plotly.newPlot(\n",
       "                        '3c199cd5-1214-4b6b-9dbf-ad4b211e7173',\n",
       "                        [{\"type\": \"scatter\", \"uid\": \"fd1b6425-3cea-45f2-955a-5146da94f0f2\", \"x\": [0, 1, 2, 3, 4, 5, 6, 7, 8, 9, 10, 11, 12, 13, 14, 15, 16, 17, 18, 19, 20, 21, 22, 23, 24, 25, 26, 27, 28, 29, 30, 31, 32, 33, 34, 35, 36, 37, 38, 39, 40, 41, 42, 43, 44, 45, 46, 47, 48, 49], \"y\": [20.2, 21.4, 17.4, 17.4, 15.8, 18.4, 17.0, 16.8, 18.6, 22.0, 18.6, 21.6, 23.4, 23.2, 22.2, 25.6, 26.2, 23.4, 19.8, 22.8, 34.0, 43.2, 54.4, 70.0, 73.2, 69.0, 63.6, 69.0, 73.2, 88.6, 115.2, 133.0, 136.4, 135.4, 131.0, 116.2, 111.0, 119.6, 157.4, 191.6, 191.2, 192.2, 185.4, 149.8, 114.4, 120.0]}],\n",
       "                        {\"template\": {\"data\": {\"scatter\": [{\"line\": {\"width\": 3}, \"marker\": {\"size\": 9}, \"type\": \"scatter\"}], \"scatter3d\": [{\"line\": {\"width\": 3}, \"marker\": {\"size\": 9}, \"type\": \"scatter3d\"}], \"scattergeo\": [{\"line\": {\"width\": 3}, \"marker\": {\"size\": 9}, \"type\": \"scattergeo\"}], \"scattergl\": [{\"line\": {\"width\": 3}, \"marker\": {\"size\": 9}, \"type\": \"scattergl\"}], \"scatterpolar\": [{\"line\": {\"width\": 3}, \"marker\": {\"size\": 9}, \"type\": \"scatterpolar\"}], \"scatterpolargl\": [{\"line\": {\"width\": 3}, \"marker\": {\"size\": 9}, \"type\": \"scatterpolargl\"}], \"scatterternary\": [{\"line\": {\"width\": 3}, \"marker\": {\"size\": 9}, \"type\": \"scatterternary\"}], \"table\": [{\"cells\": {\"height\": 30}, \"header\": {\"height\": 36}, \"type\": \"table\"}]}, \"layout\": {\"font\": {\"size\": 18}}}, \"title\": {\"text\": \"Reward Per Episode\"}},\n",
       "                        {\"showLink\": false, \"linkText\": \"Export to plot.ly\", \"plotlyServerURL\": \"https://plot.ly\", \"responsive\": true}\n",
       "                    ).then(function(){\n",
       "                            \n",
       "var gd = document.getElementById('3c199cd5-1214-4b6b-9dbf-ad4b211e7173');\n",
       "var x = new MutationObserver(function (mutations, observer) {{\n",
       "        var display = window.getComputedStyle(gd).display;\n",
       "        if (!display || display === 'none') {{\n",
       "            console.log([gd, 'removed!']);\n",
       "            Plotly.purge(gd);\n",
       "            observer.disconnect();\n",
       "        }}\n",
       "}});\n",
       "\n",
       "// Listen for the removal of the full notebook cells\n",
       "var notebookContainer = gd.closest('#notebook-container');\n",
       "if (notebookContainer) {{\n",
       "    x.observe(notebookContainer, {childList: true});\n",
       "}}\n",
       "\n",
       "// Listen for the clearing of the current output cell\n",
       "var outputEl = gd.closest('.output');\n",
       "if (outputEl) {{\n",
       "    x.observe(outputEl, {childList: true});\n",
       "}}\n",
       "\n",
       "                        })\n",
       "                };\n",
       "                });\n",
       "            </script>\n",
       "        </div>"
      ]
     },
     "metadata": {},
     "output_type": "display_data"
    }
   ],
   "source": [
    "def moving_average(a, n=3) :\n",
    "    ret = np.cumsum(a, dtype=float)\n",
    "    ret[n:] = ret[n:] - ret[:-n]\n",
    "    return ret[n - 1:] / n\n",
    "\n",
    "plotly.offline.iplot({\n",
    "    \"data\": [go.Scatter(x=np.arange(len(ep_rewards)), y=moving_average(ep_rewards, 5))],\n",
    "    \"layout\": go.Layout(title=\"Reward Per Episode\", template=\"presentation\")\n",
    "})"
   ]
  },
  {
   "cell_type": "code",
   "execution_count": null,
   "metadata": {},
   "outputs": [],
   "source": []
  }
 ],
 "metadata": {
  "kernelspec": {
   "display_name": "Python 3",
   "language": "python",
   "name": "python3"
  },
  "language_info": {
   "codemirror_mode": {
    "name": "ipython",
    "version": 3
   },
   "file_extension": ".py",
   "mimetype": "text/x-python",
   "name": "python",
   "nbconvert_exporter": "python",
   "pygments_lexer": "ipython3",
   "version": "3.6.8"
  }
 },
 "nbformat": 4,
 "nbformat_minor": 2
}
