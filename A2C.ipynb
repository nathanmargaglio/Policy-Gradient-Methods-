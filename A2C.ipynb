{
 "cells": [
  {
   "cell_type": "markdown",
   "metadata": {},
   "source": [
    "# Advantage Actor-Critic"
   ]
  },
  {
   "cell_type": "code",
   "execution_count": 1,
   "metadata": {},
   "outputs": [
    {
     "data": {
      "text/html": [
       "        <script type=\"text/javascript\">\n",
       "        window.PlotlyConfig = {MathJaxConfig: 'local'};\n",
       "        if (window.MathJax) {MathJax.Hub.Config({SVG: {font: \"STIX-Web\"}});}\n",
       "        if (typeof require !== 'undefined') {\n",
       "        require.undef(\"plotly\");\n",
       "        requirejs.config({\n",
       "            paths: {\n",
       "                'plotly': ['https://cdn.plot.ly/plotly-latest.min']\n",
       "            }\n",
       "        });\n",
       "        require(['plotly'], function(Plotly) {\n",
       "            window._Plotly = Plotly;\n",
       "        });\n",
       "        }\n",
       "        </script>\n",
       "        "
      ]
     },
     "metadata": {},
     "output_type": "display_data"
    }
   ],
   "source": [
    "%load_ext autoreload\n",
    "%autoreload 2\n",
    "import gym\n",
    "import time\n",
    "import threading\n",
    "import numpy as np\n",
    "import ipywidgets as widgets\n",
    "import plotly\n",
    "import plotly.plotly as py\n",
    "import plotly.graph_objs as go\n",
    "plotly.offline.init_notebook_mode(connected=True)\n",
    "\n",
    "import tensorflow as tf\n",
    "from tensorflow.python import keras\n",
    "from tensorflow.python.keras import layers\n",
    "\n",
    "config = tf.ConfigProto()\n",
    "config.gpu_options.allow_growth = True\n",
    "tf.enable_eager_execution(config=config)"
   ]
  },
  {
   "cell_type": "markdown",
   "metadata": {},
   "source": [
    "## Critic Model"
   ]
  },
  {
   "cell_type": "markdown",
   "metadata": {},
   "source": [
    "First, we define the critic.  This model will recieve the observation as input and will return the value of the given state.\n",
    "<br>It's initialized with the size of the observation vector and the size of the action vector.\n",
    "<br>It's comprised of two hidden dense layers of size 128 with relu activations and a dense output layer of size 1."
   ]
  },
  {
   "cell_type": "code",
   "execution_count": 2,
   "metadata": {},
   "outputs": [],
   "source": [
    "class CriticModel(keras.Model):\n",
    "    def __init__(self, observation_size, action_size):\n",
    "        super(CriticModel, self).__init__()\n",
    "        self.observation_size = observation_size\n",
    "        self.action_size = action_size\n",
    "        \n",
    "        self.value_dense_1 = layers.Dense(128, activation='relu')\n",
    "        self.value_dense_2 = layers.Dense(128, activation='relu')\n",
    "        self.values = layers.Dense(1)\n",
    "\n",
    "    def call(self, inputs):\n",
    "        input_tensor = tf.convert_to_tensor(inputs, dtype=tf.float32)\n",
    "        y = self.value_dense_1(input_tensor)\n",
    "        y = self.value_dense_2(y)\n",
    "        values = self.values(y)\n",
    "        return values"
   ]
  },
  {
   "cell_type": "markdown",
   "metadata": {},
   "source": [
    "We can quickly test to see if our critic can learn a basic XOR dataset.  First, we create the XOR data and initialize our critic."
   ]
  },
  {
   "cell_type": "code",
   "execution_count": 3,
   "metadata": {},
   "outputs": [],
   "source": [
    "input_data = np.array([\n",
    "    [0, 0],\n",
    "    [0, 1],\n",
    "    [1, 0],\n",
    "    [1, 1]\n",
    "])\n",
    "\n",
    "output_data = np.array([\n",
    "    [0],\n",
    "    [1],\n",
    "    [1],\n",
    "    [0]\n",
    "])\n",
    "\n",
    "critic = CriticModel(len(input_data[0]), len(output_data[0]))"
   ]
  },
  {
   "cell_type": "markdown",
   "metadata": {},
   "source": [
    "Next, we perform backpropagation to train the critic.  First, we pass the XOR input data through the critic to perform forward propagation, then we calculate the negative MSE of the actual XOR output data and the critic's output.  We perform both of these operations within the `GradientTape` context manager, which records operations for automatic differentiation.  \n",
    "We can then call the resulting `tape.gradient` method with the loss and weights we want to recieve the gradients for (i.e., the critic's trainable_weights).  This gives us back the gradients as tensors.  We can then iterate through the gradients and the critic's corresponding weights and add the gradients (multiplied by our learning rate `lr`) to the weights.\n",
    "\n",
    "This will complete one iteration of backpropagation for our critic.  We repeat this process for `epochs` iterations, which should result in fairly accurate results.\n",
    "\n",
    "https://www.tensorflow.org/api_docs/python/tf/GradientTape"
   ]
  },
  {
   "cell_type": "code",
   "execution_count": 5,
   "metadata": {},
   "outputs": [
    {
     "name": "stdout",
     "output_type": "stream",
     "text": [
      "- critic_loss:\n",
      " tf.Tensor(-0.0018612146, shape=(), dtype=float32)\n",
      "\n",
      "- output_data:\n",
      " [[0]\n",
      " [1]\n",
      " [1]\n",
      " [0]]\n",
      "\n",
      "- values:\n",
      " tf.Tensor(\n",
      "[[0.0363331 ]\n",
      " [0.98604023]\n",
      " [0.9834815 ]\n",
      " [0.00856652]], shape=(4, 1), dtype=float32)\n",
      "\n"
     ]
    },
    {
     "data": {
      "application/vnd.plotly.v1+json": {
       "config": {
        "linkText": "Export to plot.ly",
        "plotlyServerURL": "https://plot.ly",
        "responsive": true,
        "showLink": false
       },
       "data": [
        {
         "type": "scatter",
         "uid": "584ff0c5-9286-47e4-83bb-0984bf515390",
         "x": [
          0,
          1,
          2,
          3,
          4,
          5,
          6,
          7,
          8,
          9,
          10,
          11,
          12,
          13,
          14,
          15,
          16,
          17,
          18,
          19,
          20,
          21,
          22,
          23,
          24,
          25,
          26,
          27,
          28,
          29,
          30,
          31,
          32,
          33,
          34,
          35,
          36,
          37,
          38,
          39,
          40,
          41,
          42,
          43,
          44,
          45,
          46,
          47,
          48,
          49,
          50,
          51,
          52,
          53,
          54,
          55,
          56,
          57,
          58,
          59,
          60,
          61,
          62,
          63,
          64,
          65,
          66,
          67,
          68,
          69,
          70,
          71,
          72,
          73,
          74,
          75,
          76,
          77,
          78,
          79,
          80,
          81,
          82,
          83,
          84,
          85,
          86,
          87,
          88,
          89,
          90,
          91,
          92,
          93,
          94,
          95,
          96,
          97,
          98,
          99
         ],
         "y": [
          -0.07291679829359055,
          -0.07054708153009415,
          -0.06811659783124924,
          -0.06592114269733429,
          -0.06381504237651825,
          -0.06158490478992462,
          -0.059499528259038925,
          -0.05755040794610977,
          -0.05551423877477646,
          -0.05369871109724045,
          -0.05185302346944809,
          -0.05006173998117447,
          -0.048372894525527954,
          -0.04675868898630142,
          -0.045249372720718384,
          -0.043580062687397,
          -0.04210701584815979,
          -0.04068014770746231,
          -0.03925001621246338,
          -0.037879299372434616,
          -0.03659355267882347,
          -0.035218387842178345,
          -0.03403858840465546,
          -0.03286556154489517,
          -0.0317620113492012,
          -0.030504897236824036,
          -0.029508700594305992,
          -0.028487354516983032,
          -0.027499018236994743,
          -0.026532109826803207,
          -0.02562800422310829,
          -0.02465636283159256,
          -0.023784972727298737,
          -0.022987619042396545,
          -0.022127583622932434,
          -0.02142476662993431,
          -0.02056274376809597,
          -0.019913295283913612,
          -0.019116148352622986,
          -0.01843869686126709,
          -0.017824247479438782,
          -0.017156893387436867,
          -0.016505181789398193,
          -0.015897486358880997,
          -0.015323006547987461,
          -0.014755327254533768,
          -0.014235672540962696,
          -0.013719456270337105,
          -0.013188093900680542,
          -0.012725699692964554,
          -0.012249043211340904,
          -0.011805610731244087,
          -0.01138425711542368,
          -0.010950641706585884,
          -0.010522840544581413,
          -0.010140469297766685,
          -0.009801279753446579,
          -0.009425576776266098,
          -0.009052298963069916,
          -0.008730502799153328,
          -0.008401359431445599,
          -0.008097903802990913,
          -0.007787409238517284,
          -0.00751367537304759,
          -0.007221908774226904,
          -0.006958025507628918,
          -0.006684551481157541,
          -0.006449137814342976,
          -0.006212551146745682,
          -0.0059591676108539104,
          -0.005750283598899841,
          -0.005542793311178684,
          -0.0053191217593848705,
          -0.005130782723426819,
          -0.0049266694113612175,
          -0.0047298818826675415,
          -0.004567315801978111,
          -0.004384367261081934,
          -0.004219705704599619,
          -0.004060353152453899,
          -0.003909450955688953,
          -0.0037666033022105694,
          -0.0036208219826221466,
          -0.003478408558294177,
          -0.003347336547449231,
          -0.003219221020117402,
          -0.0030910142231732607,
          -0.0029742748010903597,
          -0.002862531691789627,
          -0.002757900394499302,
          -0.0026495542842894793,
          -0.002543122274801135,
          -0.0024477876722812653,
          -0.0023567858152091503,
          -0.0022603978868573904,
          -0.0021801157854497433,
          -0.002097271615639329,
          -0.0020108099561184645,
          -0.0019376887939870358,
          -0.0018612146377563477
         ]
        }
       ],
       "layout": {
        "autosize": true,
        "template": {
         "data": {
          "scatter": [
           {
            "line": {
             "width": 3
            },
            "marker": {
             "size": 9
            },
            "type": "scatter"
           }
          ],
          "scatter3d": [
           {
            "line": {
             "width": 3
            },
            "marker": {
             "size": 9
            },
            "type": "scatter3d"
           }
          ],
          "scattergeo": [
           {
            "line": {
             "width": 3
            },
            "marker": {
             "size": 9
            },
            "type": "scattergeo"
           }
          ],
          "scattergl": [
           {
            "line": {
             "width": 3
            },
            "marker": {
             "size": 9
            },
            "type": "scattergl"
           }
          ],
          "scatterpolar": [
           {
            "line": {
             "width": 3
            },
            "marker": {
             "size": 9
            },
            "type": "scatterpolar"
           }
          ],
          "scatterpolargl": [
           {
            "line": {
             "width": 3
            },
            "marker": {
             "size": 9
            },
            "type": "scatterpolargl"
           }
          ],
          "scatterternary": [
           {
            "line": {
             "width": 3
            },
            "marker": {
             "size": 9
            },
            "type": "scatterternary"
           }
          ],
          "table": [
           {
            "cells": {
             "height": 30
            },
            "header": {
             "height": 36
            },
            "type": "table"
           }
          ]
         },
         "layout": {
          "font": {
           "size": 18
          }
         }
        },
        "title": {
         "text": "Loss"
        },
        "xaxis": {
         "autorange": true,
         "range": [
          0,
          99
         ],
         "type": "linear"
        },
        "yaxis": {
         "autorange": true,
         "range": [
          -0.07686433071891467,
          0.0020863177875677747
         ],
         "type": "linear"
        }
       }
      },
      "image/png": "[encoded data removed]",
      "text/html": [
       "<div>\n",
       "        \n",
       "        \n",
       "            <div id=\"3c405741-c47f-449d-9ed4-43e4fb06a4c1\" class=\"plotly-graph-div\" style=\"height:525px; width:100%;\"></div>\n",
       "            <script type=\"text/javascript\">\n",
       "                require([\"plotly\"], function(Plotly) {\n",
       "                    window.PLOTLYENV=window.PLOTLYENV || {};\n",
       "                    window.PLOTLYENV.BASE_URL='https://plot.ly';\n",
       "                    \n",
       "                if (document.getElementById(\"3c405741-c47f-449d-9ed4-43e4fb06a4c1\")) {\n",
       "                    Plotly.newPlot(\n",
       "                        '3c405741-c47f-449d-9ed4-43e4fb06a4c1',\n",
       "                        [{\"type\": \"scatter\", \"uid\": \"d61b50a8-3a4d-41c5-9eb0-8a0933043c4f\", \"x\": [0, 1, 2, 3, 4, 5, 6, 7, 8, 9, 10, 11, 12, 13, 14, 15, 16, 17, 18, 19, 20, 21, 22, 23, 24, 25, 26, 27, 28, 29, 30, 31, 32, 33, 34, 35, 36, 37, 38, 39, 40, 41, 42, 43, 44, 45, 46, 47, 48, 49, 50, 51, 52, 53, 54, 55, 56, 57, 58, 59, 60, 61, 62, 63, 64, 65, 66, 67, 68, 69, 70, 71, 72, 73, 74, 75, 76, 77, 78, 79, 80, 81, 82, 83, 84, 85, 86, 87, 88, 89, 90, 91, 92, 93, 94, 95, 96, 97, 98, 99], \"y\": [-0.07291679829359055, -0.07054708153009415, -0.06811659783124924, -0.06592114269733429, -0.06381504237651825, -0.06158490478992462, -0.059499528259038925, -0.05755040794610977, -0.05551423877477646, -0.05369871109724045, -0.05185302346944809, -0.05006173998117447, -0.048372894525527954, -0.04675868898630142, -0.045249372720718384, -0.043580062687397, -0.04210701584815979, -0.04068014770746231, -0.03925001621246338, -0.037879299372434616, -0.03659355267882347, -0.035218387842178345, -0.03403858840465546, -0.03286556154489517, -0.0317620113492012, -0.030504897236824036, -0.029508700594305992, -0.028487354516983032, -0.027499018236994743, -0.026532109826803207, -0.02562800422310829, -0.02465636283159256, -0.023784972727298737, -0.022987619042396545, -0.022127583622932434, -0.02142476662993431, -0.02056274376809597, -0.019913295283913612, -0.019116148352622986, -0.01843869686126709, -0.017824247479438782, -0.017156893387436867, -0.016505181789398193, -0.015897486358880997, -0.015323006547987461, -0.014755327254533768, -0.014235672540962696, -0.013719456270337105, -0.013188093900680542, -0.012725699692964554, -0.012249043211340904, -0.011805610731244087, -0.01138425711542368, -0.010950641706585884, -0.010522840544581413, -0.010140469297766685, -0.009801279753446579, -0.009425576776266098, -0.009052298963069916, -0.008730502799153328, -0.008401359431445599, -0.008097903802990913, -0.007787409238517284, -0.00751367537304759, -0.007221908774226904, -0.006958025507628918, -0.006684551481157541, -0.006449137814342976, -0.006212551146745682, -0.0059591676108539104, -0.005750283598899841, -0.005542793311178684, -0.0053191217593848705, -0.005130782723426819, -0.0049266694113612175, -0.0047298818826675415, -0.004567315801978111, -0.004384367261081934, -0.004219705704599619, -0.004060353152453899, -0.003909450955688953, -0.0037666033022105694, -0.0036208219826221466, -0.003478408558294177, -0.003347336547449231, -0.003219221020117402, -0.0030910142231732607, -0.0029742748010903597, -0.002862531691789627, -0.002757900394499302, -0.0026495542842894793, -0.002543122274801135, -0.0024477876722812653, -0.0023567858152091503, -0.0022603978868573904, -0.0021801157854497433, -0.002097271615639329, -0.0020108099561184645, -0.0019376887939870358, -0.0018612146377563477]}],\n",
       "                        {\"template\": {\"data\": {\"scatter\": [{\"line\": {\"width\": 3}, \"marker\": {\"size\": 9}, \"type\": \"scatter\"}], \"scatter3d\": [{\"line\": {\"width\": 3}, \"marker\": {\"size\": 9}, \"type\": \"scatter3d\"}], \"scattergeo\": [{\"line\": {\"width\": 3}, \"marker\": {\"size\": 9}, \"type\": \"scattergeo\"}], \"scattergl\": [{\"line\": {\"width\": 3}, \"marker\": {\"size\": 9}, \"type\": \"scattergl\"}], \"scatterpolar\": [{\"line\": {\"width\": 3}, \"marker\": {\"size\": 9}, \"type\": \"scatterpolar\"}], \"scatterpolargl\": [{\"line\": {\"width\": 3}, \"marker\": {\"size\": 9}, \"type\": \"scatterpolargl\"}], \"scatterternary\": [{\"line\": {\"width\": 3}, \"marker\": {\"size\": 9}, \"type\": \"scatterternary\"}], \"table\": [{\"cells\": {\"height\": 30}, \"header\": {\"height\": 36}, \"type\": \"table\"}]}, \"layout\": {\"font\": {\"size\": 18}}}, \"title\": {\"text\": \"Loss\"}},\n",
       "                        {\"showLink\": false, \"linkText\": \"Export to plot.ly\", \"plotlyServerURL\": \"https://plot.ly\", \"responsive\": true}\n",
       "                    ).then(function(){\n",
       "                            \n",
       "var gd = document.getElementById('3c405741-c47f-449d-9ed4-43e4fb06a4c1');\n",
       "var x = new MutationObserver(function (mutations, observer) {{\n",
       "        var display = window.getComputedStyle(gd).display;\n",
       "        if (!display || display === 'none') {{\n",
       "            console.log([gd, 'removed!']);\n",
       "            Plotly.purge(gd);\n",
       "            observer.disconnect();\n",
       "        }}\n",
       "}});\n",
       "\n",
       "// Listen for the removal of the full notebook cells\n",
       "var notebookContainer = gd.closest('#notebook-container');\n",
       "if (notebookContainer) {{\n",
       "    x.observe(notebookContainer, {childList: true});\n",
       "}}\n",
       "\n",
       "// Listen for the clearing of the current output cell\n",
       "var outputEl = gd.closest('.output');\n",
       "if (outputEl) {{\n",
       "    x.observe(outputEl, {childList: true});\n",
       "}}\n",
       "\n",
       "                        })\n",
       "                };\n",
       "                });\n",
       "            </script>\n",
       "        </div>"
      ]
     },
     "metadata": {},
     "output_type": "display_data"
    }
   ],
   "source": [
    "lr = 0.01\n",
    "epochs = 100\n",
    "losses = []\n",
    "\n",
    "for epoch in range(epochs):\n",
    "    with tf.GradientTape() as tape:\n",
    "        values = critic(input_data)\n",
    "        critic_loss = -tf.reduce_sum((output_data - values)**2)\n",
    "\n",
    "    losses.append(float(critic_loss))\n",
    "    critic_grads = tape.gradient(critic_loss, critic.trainable_weights)\n",
    "    for w, g in zip(critic.trainable_weights, critic_grads):\n",
    "        w.assign_add(lr * g)\n",
    "\n",
    "print('- critic_loss:\\n', critic_loss)\n",
    "print('\\n- output_data:\\n', output_data)\n",
    "print('\\n- values:\\n', values)\n",
    "print()\n",
    "\n",
    "plotly.offline.iplot({\n",
    "    \"data\": [go.Scatter(x=np.arange(len(losses)), y=losses)],\n",
    "    \"layout\": go.Layout(title=\"Loss\", template=\"presentation\")\n",
    "})"
   ]
  },
  {
   "cell_type": "markdown",
   "metadata": {},
   "source": [
    "In the above example, the critic is learning a finite, arbitrary mapping.  In our application, we want the critic to be able to accurately predict the expected future discounted rewards for a given state (i.e., our value).  In essense, it's the same task as above, but instead of learning a mapping from input data to output data, we instead generate the input data by stepping through an environment (i.e., _observations_) and calculate the true discounted future rewards per episode, then learn the mapping between the two.\n",
    "\n",
    "To demonstrate this process, we will construct a simple example.  Consider an environment with `no_states` different states, and a policy $\\pi$ which will simulate an ideal agent's policy.  So, for every state the \"agent\" passes through, the agent will net a reward of `1`.  If an episode consists of 3 states, then we expect the total net reward to be `3` (+ `1` for each state).  This means that, with a discounting factor $\\gamma = 0.99$, we can compute discounted future rewards with the following function:"
   ]
  },
  {
   "cell_type": "code",
   "execution_count": 6,
   "metadata": {},
   "outputs": [
    {
     "data": {
      "text/plain": [
       "[2.9701, 1.99, 1.0]"
      ]
     },
     "execution_count": 6,
     "metadata": {},
     "output_type": "execute_result"
    }
   ],
   "source": [
    "def get_discounted_rewards(rewards, gamma=0.99):\n",
    "    discounted_rewards = []\n",
    "    reward_sum = 0\n",
    "    for reward in rewards[::-1]:\n",
    "        reward_sum = reward + gamma * reward_sum\n",
    "        discounted_rewards.append(reward_sum)\n",
    "    discounted_rewards.reverse()\n",
    "    return discounted_rewards\n",
    "\n",
    "get_discounted_rewards([1, 1, 1])"
   ]
  },
  {
   "cell_type": "markdown",
   "metadata": {},
   "source": [
    "So, in the first state, we expect our critic to learn that our future discounted rewards to be `2.9701`, then `1.99` for the second state, then `1.0` for the last state.  We can see in the following example that our critic can learn this fairly quickly."
   ]
  },
  {
   "cell_type": "code",
   "execution_count": 8,
   "metadata": {},
   "outputs": [
    {
     "name": "stdout",
     "output_type": "stream",
     "text": [
      "- critic_loss:\n",
      " tf.Tensor(-0.00019192709, shape=(), dtype=float32)\n",
      "\n",
      "- observations:\n",
      " tf.Tensor(\n",
      "[[1. 0. 0.]\n",
      " [0. 1. 0.]\n",
      " [0. 0. 1.]], shape=(3, 3), dtype=float32)\n",
      "\n",
      "- discounted_rewards:\n",
      " [[2.9701]\n",
      " [1.99  ]\n",
      " [1.    ]]\n",
      "\n",
      "- values:\n",
      " tf.Tensor(\n",
      "[[2.9650676]\n",
      " [1.9876015]\n",
      " [1.0126827]], shape=(3, 1), dtype=float32)\n",
      "\n"
     ]
    },
    {
     "data": {
      "application/vnd.plotly.v1+json": {
       "config": {
        "linkText": "Export to plot.ly",
        "plotlyServerURL": "https://plot.ly",
        "responsive": true,
        "showLink": false
       },
       "data": [
        {
         "type": "scatter",
         "uid": "54caea1a-c572-4291-b1b5-36a1224cf3fd",
         "x": [
          0,
          1,
          2,
          3,
          4,
          5,
          6,
          7,
          8,
          9,
          10,
          11,
          12,
          13,
          14,
          15,
          16,
          17,
          18,
          19,
          20,
          21,
          22,
          23,
          24,
          25,
          26,
          27,
          28,
          29,
          30,
          31,
          32,
          33,
          34,
          35,
          36,
          37,
          38,
          39,
          40,
          41,
          42,
          43,
          44,
          45,
          46,
          47,
          48,
          49,
          50,
          51,
          52,
          53,
          54,
          55,
          56,
          57,
          58,
          59,
          60,
          61,
          62,
          63,
          64,
          65,
          66,
          67,
          68,
          69,
          70,
          71,
          72,
          73,
          74,
          75,
          76,
          77,
          78,
          79,
          80,
          81,
          82,
          83,
          84,
          85,
          86,
          87,
          88,
          89,
          90,
          91,
          92,
          93,
          94,
          95,
          96,
          97,
          98,
          99
         ],
         "y": [
          -14.67320728302002,
          -12.240397453308105,
          -10.376367568969727,
          -8.835573196411133,
          -7.528737545013428,
          -6.389297008514404,
          -5.381662368774414,
          -4.492031574249268,
          -3.727482557296753,
          -3.075385093688965,
          -2.5181424617767334,
          -2.0632479190826416,
          -1.696417212486267,
          -1.40584135055542,
          -1.1785454750061035,
          -0.9991148114204407,
          -0.8589831590652466,
          -0.7474345564842224,
          -0.6586883664131165,
          -0.5853468775749207,
          -0.5246437788009644,
          -0.4729418158531189,
          -0.4279537796974182,
          -0.388519823551178,
          -0.35344380140304565,
          -0.3217632472515106,
          -0.292555570602417,
          -0.2660873532295227,
          -0.24200859665870667,
          -0.21993671357631683,
          -0.19995760917663574,
          -0.18173810839653015,
          -0.1649937778711319,
          -0.14935436844825745,
          -0.1350858211517334,
          -0.12222179770469666,
          -0.11080615222454071,
          -0.1001606434583664,
          -0.09076061844825745,
          -0.08219115436077118,
          -0.07444854825735092,
          -0.06734593212604523,
          -0.060990139842033386,
          -0.05511723458766937,
          -0.04986933618783951,
          -0.045053880661726,
          -0.04070382937788963,
          -0.03677060082554817,
          -0.0332329086959362,
          -0.029975183308124542,
          -0.02709086239337921,
          -0.024493588134646416,
          -0.022149134427309036,
          -0.020030006766319275,
          -0.018110299482941628,
          -0.016356920823454857,
          -0.014792941510677338,
          -0.013365494087338448,
          -0.012080017477273941,
          -0.010915178805589676,
          -0.009866100735962391,
          -0.008900456130504608,
          -0.008025775663554668,
          -0.007246506400406361,
          -0.006527716293931007,
          -0.005891570821404457,
          -0.005313372705131769,
          -0.0048011112958192825,
          -0.004334914963692427,
          -0.003914743196219206,
          -0.0035358641762286425,
          -0.0031927700620144606,
          -0.002885418478399515,
          -0.002603692002594471,
          -0.002354786265641451,
          -0.002123696031048894,
          -0.0019193748012185097,
          -0.0017357082106173038,
          -0.0015673121670261025,
          -0.0014180858852341771,
          -0.0012808693572878838,
          -0.0011584744788706303,
          -0.0010473348665982485,
          -0.0009472609963268042,
          -0.0008560928399674594,
          -0.000774516724050045,
          -0.0007001836784183979,
          -0.0006338499370031059,
          -0.0005730925477109849,
          -0.0005187663482502103,
          -0.00046915601706132293,
          -0.00042472538189031184,
          -0.0003844525199383497,
          -0.00034767016768455505,
          -0.00031528150429949164,
          -0.0002851049939636141,
          -0.00025820458540692925,
          -0.00023395736934617162,
          -0.0002118496340699494,
          -0.00019192708714399487
         ]
        }
       ],
       "layout": {
        "autosize": true,
        "template": {
         "data": {
          "scatter": [
           {
            "line": {
             "width": 3
            },
            "marker": {
             "size": 9
            },
            "type": "scatter"
           }
          ],
          "scatter3d": [
           {
            "line": {
             "width": 3
            },
            "marker": {
             "size": 9
            },
            "type": "scatter3d"
           }
          ],
          "scattergeo": [
           {
            "line": {
             "width": 3
            },
            "marker": {
             "size": 9
            },
            "type": "scattergeo"
           }
          ],
          "scattergl": [
           {
            "line": {
             "width": 3
            },
            "marker": {
             "size": 9
            },
            "type": "scattergl"
           }
          ],
          "scatterpolar": [
           {
            "line": {
             "width": 3
            },
            "marker": {
             "size": 9
            },
            "type": "scatterpolar"
           }
          ],
          "scatterpolargl": [
           {
            "line": {
             "width": 3
            },
            "marker": {
             "size": 9
            },
            "type": "scatterpolargl"
           }
          ],
          "scatterternary": [
           {
            "line": {
             "width": 3
            },
            "marker": {
             "size": 9
            },
            "type": "scatterternary"
           }
          ],
          "table": [
           {
            "cells": {
             "height": 30
            },
            "header": {
             "height": 36
            },
            "type": "table"
           }
          ]
         },
         "layout": {
          "font": {
           "size": 18
          }
         }
        },
        "title": {
         "text": "Loss"
        },
        "xaxis": {
         "autorange": true,
         "range": [
          0,
          99
         ],
         "type": "linear"
        },
        "yaxis": {
         "autorange": true,
         "range": [
          -15.488374802794068,
          0.8149755926869047
         ],
         "type": "linear"
        }
       }
      },
      "image/png": "[encoded data removed]",
      "text/html": [
       "<div>\n",
       "        \n",
       "        \n",
       "            <div id=\"7893ee50-32ac-46a9-b2de-796fbab05377\" class=\"plotly-graph-div\" style=\"height:525px; width:100%;\"></div>\n",
       "            <script type=\"text/javascript\">\n",
       "                require([\"plotly\"], function(Plotly) {\n",
       "                    window.PLOTLYENV=window.PLOTLYENV || {};\n",
       "                    window.PLOTLYENV.BASE_URL='https://plot.ly';\n",
       "                    \n",
       "                if (document.getElementById(\"7893ee50-32ac-46a9-b2de-796fbab05377\")) {\n",
       "                    Plotly.newPlot(\n",
       "                        '7893ee50-32ac-46a9-b2de-796fbab05377',\n",
       "                        [{\"type\": \"scatter\", \"uid\": \"a3ca582c-2839-42d0-96e1-a77e3e811979\", \"x\": [0, 1, 2, 3, 4, 5, 6, 7, 8, 9, 10, 11, 12, 13, 14, 15, 16, 17, 18, 19, 20, 21, 22, 23, 24, 25, 26, 27, 28, 29, 30, 31, 32, 33, 34, 35, 36, 37, 38, 39, 40, 41, 42, 43, 44, 45, 46, 47, 48, 49, 50, 51, 52, 53, 54, 55, 56, 57, 58, 59, 60, 61, 62, 63, 64, 65, 66, 67, 68, 69, 70, 71, 72, 73, 74, 75, 76, 77, 78, 79, 80, 81, 82, 83, 84, 85, 86, 87, 88, 89, 90, 91, 92, 93, 94, 95, 96, 97, 98, 99], \"y\": [-14.67320728302002, -12.240397453308105, -10.376367568969727, -8.835573196411133, -7.528737545013428, -6.389297008514404, -5.381662368774414, -4.492031574249268, -3.727482557296753, -3.075385093688965, -2.5181424617767334, -2.0632479190826416, -1.696417212486267, -1.40584135055542, -1.1785454750061035, -0.9991148114204407, -0.8589831590652466, -0.7474345564842224, -0.6586883664131165, -0.5853468775749207, -0.5246437788009644, -0.4729418158531189, -0.4279537796974182, -0.388519823551178, -0.35344380140304565, -0.3217632472515106, -0.292555570602417, -0.2660873532295227, -0.24200859665870667, -0.21993671357631683, -0.19995760917663574, -0.18173810839653015, -0.1649937778711319, -0.14935436844825745, -0.1350858211517334, -0.12222179770469666, -0.11080615222454071, -0.1001606434583664, -0.09076061844825745, -0.08219115436077118, -0.07444854825735092, -0.06734593212604523, -0.060990139842033386, -0.05511723458766937, -0.04986933618783951, -0.045053880661726, -0.04070382937788963, -0.03677060082554817, -0.0332329086959362, -0.029975183308124542, -0.02709086239337921, -0.024493588134646416, -0.022149134427309036, -0.020030006766319275, -0.018110299482941628, -0.016356920823454857, -0.014792941510677338, -0.013365494087338448, -0.012080017477273941, -0.010915178805589676, -0.009866100735962391, -0.008900456130504608, -0.008025775663554668, -0.007246506400406361, -0.006527716293931007, -0.005891570821404457, -0.005313372705131769, -0.0048011112958192825, -0.004334914963692427, -0.003914743196219206, -0.0035358641762286425, -0.0031927700620144606, -0.002885418478399515, -0.002603692002594471, -0.002354786265641451, -0.002123696031048894, -0.0019193748012185097, -0.0017357082106173038, -0.0015673121670261025, -0.0014180858852341771, -0.0012808693572878838, -0.0011584744788706303, -0.0010473348665982485, -0.0009472609963268042, -0.0008560928399674594, -0.000774516724050045, -0.0007001836784183979, -0.0006338499370031059, -0.0005730925477109849, -0.0005187663482502103, -0.00046915601706132293, -0.00042472538189031184, -0.0003844525199383497, -0.00034767016768455505, -0.00031528150429949164, -0.0002851049939636141, -0.00025820458540692925, -0.00023395736934617162, -0.0002118496340699494, -0.00019192708714399487]}],\n",
       "                        {\"template\": {\"data\": {\"scatter\": [{\"line\": {\"width\": 3}, \"marker\": {\"size\": 9}, \"type\": \"scatter\"}], \"scatter3d\": [{\"line\": {\"width\": 3}, \"marker\": {\"size\": 9}, \"type\": \"scatter3d\"}], \"scattergeo\": [{\"line\": {\"width\": 3}, \"marker\": {\"size\": 9}, \"type\": \"scattergeo\"}], \"scattergl\": [{\"line\": {\"width\": 3}, \"marker\": {\"size\": 9}, \"type\": \"scattergl\"}], \"scatterpolar\": [{\"line\": {\"width\": 3}, \"marker\": {\"size\": 9}, \"type\": \"scatterpolar\"}], \"scatterpolargl\": [{\"line\": {\"width\": 3}, \"marker\": {\"size\": 9}, \"type\": \"scatterpolargl\"}], \"scatterternary\": [{\"line\": {\"width\": 3}, \"marker\": {\"size\": 9}, \"type\": \"scatterternary\"}], \"table\": [{\"cells\": {\"height\": 30}, \"header\": {\"height\": 36}, \"type\": \"table\"}]}, \"layout\": {\"font\": {\"size\": 18}}}, \"title\": {\"text\": \"Loss\"}},\n",
       "                        {\"showLink\": false, \"linkText\": \"Export to plot.ly\", \"plotlyServerURL\": \"https://plot.ly\", \"responsive\": true}\n",
       "                    ).then(function(){\n",
       "                            \n",
       "var gd = document.getElementById('7893ee50-32ac-46a9-b2de-796fbab05377');\n",
       "var x = new MutationObserver(function (mutations, observer) {{\n",
       "        var display = window.getComputedStyle(gd).display;\n",
       "        if (!display || display === 'none') {{\n",
       "            console.log([gd, 'removed!']);\n",
       "            Plotly.purge(gd);\n",
       "            observer.disconnect();\n",
       "        }}\n",
       "}});\n",
       "\n",
       "// Listen for the removal of the full notebook cells\n",
       "var notebookContainer = gd.closest('#notebook-container');\n",
       "if (notebookContainer) {{\n",
       "    x.observe(notebookContainer, {childList: true});\n",
       "}}\n",
       "\n",
       "// Listen for the clearing of the current output cell\n",
       "var outputEl = gd.closest('.output');\n",
       "if (outputEl) {{\n",
       "    x.observe(outputEl, {childList: true});\n",
       "}}\n",
       "\n",
       "                        })\n",
       "                };\n",
       "                });\n",
       "            </script>\n",
       "        </div>"
      ]
     },
     "metadata": {},
     "output_type": "display_data"
    }
   ],
   "source": [
    "no_states = 3\n",
    "critic = CriticModel(len(input_data[0]), len(output_data[0]))\n",
    "observations = tf.one_hot(np.arange(no_states), no_states)\n",
    "discounted_rewards = np.array(get_discounted_rewards([1, 1, 1])).reshape(no_states, 1)\n",
    "losses = []\n",
    "\n",
    "lr = 0.005\n",
    "epochs = 100\n",
    "for epoch in range(epochs):\n",
    "    with tf.GradientTape() as tape:\n",
    "        values = critic(observations)\n",
    "        critic_loss = -tf.reduce_sum((discounted_rewards - values)**2)\n",
    "\n",
    "    losses.append(float(critic_loss))\n",
    "    critic_grads = tape.gradient(critic_loss, critic.trainable_weights)\n",
    "    for w, g in zip(critic.trainable_weights, critic_grads):\n",
    "        w.assign_add(lr * g)\n",
    "        \n",
    "print('- critic_loss:\\n', critic_loss)\n",
    "print('\\n- observations:\\n', observations)\n",
    "print('\\n- discounted_rewards:\\n', discounted_rewards)\n",
    "print('\\n- values:\\n', values)\n",
    "print()\n",
    "plotly.offline.iplot({\n",
    "    \"data\": [go.Scatter(x=np.arange(len(losses)), y=losses)],\n",
    "    \"layout\": go.Layout(title=\"Loss\", template=\"presentation\")\n",
    "})"
   ]
  },
  {
   "cell_type": "markdown",
   "metadata": {},
   "source": [
    "## Actor Model"
   ]
  },
  {
   "cell_type": "markdown",
   "metadata": {},
   "source": [
    "Next, we define the actor.  This model will recieve the observation as input and will return the probability distribution of the actions for the given state.\n",
    "<br>It's initialized with the size of the observation vector and the size of the action vector.\n",
    "<br>It's comprised of two hidden dense layers of size 128 with relu activations and a dense output layer of size `action_size`."
   ]
  },
  {
   "cell_type": "code",
   "execution_count": 9,
   "metadata": {},
   "outputs": [],
   "source": [
    "class ActorModel(keras.Model):\n",
    "    def __init__(self, observation_size, action_size):\n",
    "        super(ActorModel, self).__init__()\n",
    "        self.observation_size = observation_size\n",
    "        self.action_size = action_size\n",
    "        \n",
    "        self.policy_dense_1 = layers.Dense(128, activation='relu')\n",
    "        self.policy_dense_2 = layers.Dense(128, activation='relu')\n",
    "        self.policy_logits = layers.Dense(action_size)\n",
    "\n",
    "    def call(self, inputs):\n",
    "        input_tensor = tf.convert_to_tensor(inputs, dtype=tf.float32)\n",
    "        x = self.policy_dense_1(input_tensor)\n",
    "        x = self.policy_dense_2(x)\n",
    "        logits = self.policy_logits(x)\n",
    "        return logits"
   ]
  },
  {
   "cell_type": "markdown",
   "metadata": {},
   "source": [
    "# Actor-Critic Model\n",
    "\n",
    "Finally, we combine the previous two models to build our Actor-Critic model.  Here, the goal is to leverage the value-predicting power of the critic to approximate a given actions _advantage_, which will help us guide the actor to finding an optimal policy."
   ]
  },
  {
   "cell_type": "code",
   "execution_count": 10,
   "metadata": {},
   "outputs": [],
   "source": [
    "class ActorCriticModel(keras.Model):\n",
    "    def __init__(self, observation_size, action_size):\n",
    "        super(ActorCriticModel, self).__init__()\n",
    "        self.observation_size = observation_size\n",
    "        self.action_size = action_size\n",
    "        self.actor = ActorModel(observation_size, action_size)\n",
    "        self.critic = CriticModel(observation_size, action_size)\n",
    "        \n",
    "    def call(self, inputs):\n",
    "        return self.actor(inputs), self.critic(inputs)\n",
    "\n",
    "class HyperParameters:\n",
    "    def __init__(self, **kw):\n",
    "        self.gamma = 0.99\n",
    "        self.vf_coef = 0.5\n",
    "        self.ent_coef = 0.01\n",
    "        self.lr = 0.001\n",
    "        self.__dict__.update(kw)\n",
    "        \n",
    "def moving_average(a, n=3) :\n",
    "    ret = np.cumsum(a, dtype=float)\n",
    "    ret[n:] = ret[n:] - ret[:-n]\n",
    "    return ret[n - 1:] / n"
   ]
  },
  {
   "cell_type": "markdown",
   "metadata": {},
   "source": [
    "Similar to our previous examples, we define our agent's loss function.  This time, however, we combine the loss from both the critic and the actor.  This allows us to train both at the same time.\n",
    "\n",
    "Note: Along with the critic's mean squared error and the actor's cross-entropy, we also incorporate two more features: _entropy_ and _discounted reward normalization_.\n",
    "\n",
    "Entropy is used to promote the actor's exploration by penalizing the actor for having a narrow distribution (i.e., being overly confident in a single action for a given observation).  An interesting discussion on this can be found here:\n",
    "\n",
    "https://github.com/dennybritz/reinforcement-learning/issues/34\n",
    "\n",
    "Discounted Reward Normalization is used for stability purposes.  In theory, we don't need to normalize discounted rewards, but due to the variance in environment's rewards (e.g., one environment can end up with total rewards ranging between -10 and 10, while another ranges between 100 and 1000), we take a safe approach and normalize these rewards.  A discussion on this can be found here:\n",
    "\n",
    "https://datascience.stackexchange.com/questions/20098/why-do-we-normalize-the-discounted-rewards-when-doing-policy-gradient-reinforcem"
   ]
  },
  {
   "cell_type": "code",
   "execution_count": 11,
   "metadata": {},
   "outputs": [],
   "source": [
    "def loss(a2c, observations, actions, discounted_rewards, hyperparameters, verbose=False, normalize_discounted_rewards=True, *args, **kargs):\n",
    "    hp = hyperparameters\n",
    "    \n",
    "    logits, values = a2c(tf.convert_to_tensor(observations, dtype=tf.float32))\n",
    "    values = tf.squeeze(values)\n",
    "\n",
    "    if normalize_discounted_rewards:\n",
    "        discounted_rewards -= np.mean(discounted_rewards)\n",
    "        discounted_rewards /= np.std(discounted_rewards)\n",
    "\n",
    "    discounted_rewards = tf.convert_to_tensor(np.array(discounted_rewards), dtype=tf.float32)\n",
    "    advantages =  tf.stop_gradient(discounted_rewards) - values\n",
    "\n",
    "    critic_loss = advantages ** 2\n",
    "\n",
    "    policy = tf.nn.softmax(logits)\n",
    "    entropy = tf.nn.softmax_cross_entropy_with_logits_v2(labels=policy, logits=logits)\n",
    "\n",
    "    actor_loss = tf.nn.sparse_softmax_cross_entropy_with_logits(labels=actions, logits=logits)\n",
    "    actor_loss *= tf.stop_gradient(advantages)\n",
    "    actor_loss -= hp.ent_coef * entropy\n",
    "\n",
    "    total_loss = tf.reduce_mean(hp.vf_coef * critic_loss + actor_loss)\n",
    "\n",
    "    if verbose:\n",
    "        variables = dir()[:]\n",
    "        for key in variables:\n",
    "            print(key)\n",
    "            print(locals()[key])\n",
    "    \n",
    "    return total_loss"
   ]
  },
  {
   "cell_type": "markdown",
   "metadata": {},
   "source": [
    "We also define a \"runner\" function which performs the operations of a Markov Decision Process:\n",
    "\n",
    "https://towardsdatascience.com/reinforcement-learning-demystified-markov-decision-processes-part-1-bf00dda41690\n",
    "\n",
    "Basically, this works by having passing the current observation from our environment to our agent, having our agent produce an action based on the observation and passing that back to the environment, then having the environment produce the next state (and repeat).  Along the way, we capture data (such as the observations, rewards, and actions) in batches to train on later.  After our batch grows large enough, we train our agent on the data, then continue with the process."
   ]
  },
  {
   "cell_type": "code",
   "execution_count": 12,
   "metadata": {},
   "outputs": [],
   "source": [
    "def run(env, a2c, verbose=False, *args, **kargs):\n",
    "    obs = env.reset()\n",
    "    done = False\n",
    "    rewards = []\n",
    "    actions = []\n",
    "    observations = []\n",
    "        \n",
    "    while not done:\n",
    "        logits, _ = a2c(tf.convert_to_tensor(obs[None, :], dtype=tf.float32))\n",
    "        probs = tf.nn.softmax(logits)\n",
    "        action = np.random.choice(env.action_space.n, p=probs.numpy()[0])\n",
    "\n",
    "        next_obs, reward, done, info = env.step(action)\n",
    "        \n",
    "        if done:\n",
    "            reward = -1\n",
    "        \n",
    "        observations.append(obs)\n",
    "        actions.append(action)\n",
    "        rewards.append(reward)\n",
    "        \n",
    "        obs = next_obs\n",
    "        total_reward = np.sum(rewards)\n",
    "        \n",
    "        if verbose:\n",
    "            variables = dir()[:]\n",
    "            for key in variables:\n",
    "                print(key)\n",
    "                print(locals()[key])\n",
    "            \n",
    "        if done:\n",
    "            return observations, actions, rewards"
   ]
  },
  {
   "cell_type": "markdown",
   "metadata": {},
   "source": [
    "We also provide a _learn_ function which will recive the data, create an Adam Optimizer, and train the agent."
   ]
  },
  {
   "cell_type": "code",
   "execution_count": 13,
   "metadata": {},
   "outputs": [],
   "source": [
    "def learn(a2c, observations, actions, discounted_rewards, hyperparameters, *args, **kargs):\n",
    "    opt = tf.train.AdamOptimizer(hp.lr, use_locking=True)\n",
    "    with tf.GradientTape() as tape:\n",
    "        total_loss = loss(a2c, observations, actions, discounted_rewards, hyperparameters=hp, **kargs)\n",
    "\n",
    "    grads = tape.gradient(total_loss, a2c.trainable_weights)\n",
    "    opt.apply_gradients(zip(grads, a2c.trainable_weights))"
   ]
  },
  {
   "cell_type": "markdown",
   "metadata": {},
   "source": [
    "With that all defined, we now call an OpenAI gym environment and create an Advantage Actor-Critic agent that we will be training.\n",
    "\n",
    "OpenAI Gym is a framework used to build environments compatible with this kind of learning process.  Although Gym environments range everywhere from complex physics simulations to Atari games, they supply a couple of methods that are consistent for every environment.  These are the `step` method (which accepts and action and returns the resulting observation for the next state, the reward, whether or not the environment is done, and any extra info) and the `reset` method (which resets an environment to an initial state).  More info on Gym can be found here:\n",
    "\n",
    "https://gym.openai.com/\n",
    "\n",
    "We start with a simple environment, `CartPole-v1`.  Details on this environment can be found here:\n",
    "\n",
    "https://gym.openai.com/envs/CartPole-v1/"
   ]
  },
  {
   "cell_type": "code",
   "execution_count": 14,
   "metadata": {},
   "outputs": [
    {
     "data": {
      "text/plain": [
       "(<tf.Tensor: id=29324, shape=(1, 2), dtype=float32, numpy=array([[0.00073717, 0.08373708]], dtype=float32)>,\n",
       " <tf.Tensor: id=29410, shape=(1, 1), dtype=float32, numpy=array([[0.00830825]], dtype=float32)>)"
      ]
     },
     "execution_count": 14,
     "metadata": {},
     "output_type": "execute_result"
    }
   ],
   "source": [
    "env = gym.make('CartPole-v1')\n",
    "#env = gym.make('LunarLander-v2')\n",
    "a2c = ActorCriticModel(env.observation_space.shape[0], env.action_space.n)\n",
    "a2c(tf.convert_to_tensor(np.random.random((1, a2c.observation_size)), dtype=tf.float32))"
   ]
  },
  {
   "cell_type": "markdown",
   "metadata": {},
   "source": [
    "Finally, we learn from the environment.  There are many hyperparameters that can be adjusted, from coefficients used during training to the number of episodes we run through.\n",
    "\n",
    "We run through each episode, collecting data into our batch.  Once our batch grows large enough (e.g., to 512 observations), we train the agent on the batch.  Once it's trained, we clear the batch and start again."
   ]
  },
  {
   "cell_type": "code",
   "execution_count": 15,
   "metadata": {},
   "outputs": [
    {
     "name": "stdout",
     "output_type": "stream",
     "text": [
      "Ep 18 (0.389s): 23.3\n",
      "Ep 31 (1.096s): 38.9\n",
      "Ep 43 (1.809s): 42.9\n",
      "Ep 49 (2.512s): 66.4\n",
      "Ep 52 (3.228s): 108.9\n",
      "Ep 59 (4.014s): 112.6\n",
      "Ep 61 (5.118s): 174.6\n",
      "Ep 64 (6.018s): 210.9\n",
      "Ep 67 (6.778s): 243.4\n",
      "Ep 70 (7.704s): 248.1\n",
      "Ep 72 (8.757s): 261.5\n",
      "Ep 75 (9.564s): 255.0\n",
      "Ep 77 (10.510s): 290.9\n",
      "Ep 84 (11.344s): 140.7\n",
      "Ep 86 (12.190s): 137.4\n",
      "Ep 88 (13.168s): 179.0\n",
      "Ep 90 (14.357s): 264.8\n",
      "Ep 94 (15.284s): 293.4\n",
      "Ep 96 (16.415s): 327.4\n",
      "17.199629068374634\n"
     ]
    }
   ],
   "source": [
    "hp = HyperParameters(gamma = 0.99, vf_coef = 0.5, ent_coef = 0.001, lr = 0.001)\n",
    "\n",
    "start_time = time.time()\n",
    "batch = {\n",
    "    \"observations\": [],\n",
    "    \"actions\": [],\n",
    "    \"discounted_rewards\": []\n",
    "}\n",
    "\n",
    "ep_rewards = []\n",
    "episodes = 100\n",
    "episode = 0\n",
    "epochs = 8\n",
    "batch_size = 512\n",
    "while episode < episodes:\n",
    "    observations, actions, rewards = run(env, a2c, verbose=0)\n",
    "    ep_rewards.append(np.sum(rewards))\n",
    "    \n",
    "    # Calculate True Discounted Rewards\n",
    "    discounted_rewards = get_discounted_rewards(rewards, hp.gamma)\n",
    "    \n",
    "    batch['observations'] += observations\n",
    "    batch['actions'] += actions\n",
    "    batch['discounted_rewards'] += discounted_rewards\n",
    "\n",
    "    if len(batch['observations']) >= batch_size:\n",
    "        print(f\"Ep {episode} ({time.time() - start_time:.3f}s): {np.mean(ep_rewards[-10:])}\")\n",
    "        for epoch in range(epochs):\n",
    "            learn(a2c, hyperparameters=hp, lock_actor=True, **batch)\n",
    "        batch = {\n",
    "            \"observations\": [],\n",
    "            \"actions\": [],\n",
    "            \"discounted_rewards\": []\n",
    "        }\n",
    "    episode += 1\n",
    "    \n",
    "end_time = time.time()\n",
    "print(end_time - start_time)"
   ]
  },
  {
   "cell_type": "markdown",
   "metadata": {},
   "source": [
    "And, finally, we can plot our agent's training process.  The x-axis is the environment episode, while the y-axis is the total reward for the given episode.  We smooth the curve with a moving average."
   ]
  },
  {
   "cell_type": "code",
   "execution_count": 16,
   "metadata": {},
   "outputs": [
    {
     "data": {
      "application/vnd.plotly.v1+json": {
       "config": {
        "linkText": "Export to plot.ly",
        "plotlyServerURL": "https://plot.ly",
        "responsive": true,
        "showLink": false
       },
       "data": [
        {
         "type": "scatter",
         "uid": "3c3b3ce3-b27d-42bc-804c-a81f3c31d76a",
         "x": [
          0,
          1,
          2,
          3,
          4,
          5,
          6,
          7,
          8,
          9,
          10,
          11,
          12,
          13,
          14,
          15,
          16,
          17,
          18,
          19,
          20,
          21,
          22,
          23,
          24,
          25,
          26,
          27,
          28,
          29,
          30,
          31,
          32,
          33,
          34,
          35,
          36,
          37,
          38,
          39,
          40,
          41,
          42,
          43,
          44,
          45,
          46,
          47,
          48,
          49,
          50,
          51,
          52,
          53,
          54,
          55,
          56,
          57,
          58,
          59,
          60,
          61,
          62,
          63,
          64,
          65,
          66,
          67,
          68,
          69,
          70,
          71,
          72,
          73,
          74,
          75,
          76,
          77,
          78,
          79,
          80,
          81,
          82,
          83,
          84,
          85,
          86,
          87,
          88,
          89,
          90,
          91,
          92,
          93,
          94,
          95,
          96,
          97,
          98,
          99
         ],
         "y": [
          26.9,
          24.3,
          22.9,
          24.4,
          24.3,
          22.7,
          22.9,
          20.9,
          21.7,
          23.3,
          29.1,
          31.8,
          29.7,
          38.7,
          40.1,
          42.1,
          41.8,
          41.1,
          39.5,
          39.2,
          34.6,
          36.6,
          38.9,
          31.3,
          33.5,
          33.5,
          36.8,
          44.3,
          46.3,
          48,
          47.5,
          43.9,
          45.5,
          42.5,
          42.9,
          42.7,
          46.5,
          42.1,
          51.3,
          58.2,
          66.4,
          83.4,
          96,
          108.9,
          112.6,
          120.4,
          120.1,
          121.8,
          115.1,
          113.1,
          112.6,
          143,
          174.6,
          185.9,
          195.4,
          210.9,
          218.8,
          228.5,
          243.4,
          255.8,
          274.5,
          248.1,
          237.7,
          261.5,
          271.3,
          259.4,
          255,
          288.8,
          290.9,
          278,
          255.9,
          239.3,
          210.6,
          166.8,
          145.6,
          140.7,
          155,
          137.4,
          150.9,
          179,
          221.8,
          264.8,
          266.2,
          271.3,
          280.7,
          293.4,
          317.5,
          327.4,
          303.9,
          279.9,
          247.9
         ]
        }
       ],
       "layout": {
        "autosize": true,
        "template": {
         "data": {
          "scatter": [
           {
            "line": {
             "width": 3
            },
            "marker": {
             "size": 9
            },
            "type": "scatter"
           }
          ],
          "scatter3d": [
           {
            "line": {
             "width": 3
            },
            "marker": {
             "size": 9
            },
            "type": "scatter3d"
           }
          ],
          "scattergeo": [
           {
            "line": {
             "width": 3
            },
            "marker": {
             "size": 9
            },
            "type": "scattergeo"
           }
          ],
          "scattergl": [
           {
            "line": {
             "width": 3
            },
            "marker": {
             "size": 9
            },
            "type": "scattergl"
           }
          ],
          "scatterpolar": [
           {
            "line": {
             "width": 3
            },
            "marker": {
             "size": 9
            },
            "type": "scatterpolar"
           }
          ],
          "scatterpolargl": [
           {
            "line": {
             "width": 3
            },
            "marker": {
             "size": 9
            },
            "type": "scatterpolargl"
           }
          ],
          "scatterternary": [
           {
            "line": {
             "width": 3
            },
            "marker": {
             "size": 9
            },
            "type": "scatterternary"
           }
          ],
          "table": [
           {
            "cells": {
             "height": 30
            },
            "header": {
             "height": 36
            },
            "type": "table"
           }
          ]
         },
         "layout": {
          "font": {
           "size": 18
          }
         }
        },
        "title": {
         "text": "Reward Per Episode"
        },
        "xaxis": {
         "autorange": true,
         "range": [
          0,
          90
         ],
         "type": "linear"
        },
        "yaxis": {
         "autorange": true,
         "range": [
          3.87222222222222,
          344.42777777777775
         ],
         "type": "linear"
        }
       }
      },
      "image/png": "[encoded data removed]",
      "text/html": [
       "<div>\n",
       "        \n",
       "        \n",
       "            <div id=\"94d9fb3a-8b1f-42e4-ae04-2a28f3a9a34e\" class=\"plotly-graph-div\" style=\"height:525px; width:100%;\"></div>\n",
       "            <script type=\"text/javascript\">\n",
       "                require([\"plotly\"], function(Plotly) {\n",
       "                    window.PLOTLYENV=window.PLOTLYENV || {};\n",
       "                    window.PLOTLYENV.BASE_URL='https://plot.ly';\n",
       "                    \n",
       "                if (document.getElementById(\"94d9fb3a-8b1f-42e4-ae04-2a28f3a9a34e\")) {\n",
       "                    Plotly.newPlot(\n",
       "                        '94d9fb3a-8b1f-42e4-ae04-2a28f3a9a34e',\n",
       "                        [{\"type\": \"scatter\", \"uid\": \"ee1fabab-26d6-4de8-a2b2-efbba3f9de92\", \"x\": [0, 1, 2, 3, 4, 5, 6, 7, 8, 9, 10, 11, 12, 13, 14, 15, 16, 17, 18, 19, 20, 21, 22, 23, 24, 25, 26, 27, 28, 29, 30, 31, 32, 33, 34, 35, 36, 37, 38, 39, 40, 41, 42, 43, 44, 45, 46, 47, 48, 49, 50, 51, 52, 53, 54, 55, 56, 57, 58, 59, 60, 61, 62, 63, 64, 65, 66, 67, 68, 69, 70, 71, 72, 73, 74, 75, 76, 77, 78, 79, 80, 81, 82, 83, 84, 85, 86, 87, 88, 89, 90, 91, 92, 93, 94, 95, 96, 97, 98, 99], \"y\": [26.9, 24.3, 22.9, 24.4, 24.3, 22.7, 22.9, 20.9, 21.7, 23.3, 29.1, 31.8, 29.7, 38.7, 40.1, 42.1, 41.8, 41.1, 39.5, 39.2, 34.6, 36.6, 38.9, 31.3, 33.5, 33.5, 36.8, 44.3, 46.3, 48.0, 47.5, 43.9, 45.5, 42.5, 42.9, 42.7, 46.5, 42.1, 51.3, 58.2, 66.4, 83.4, 96.0, 108.9, 112.6, 120.4, 120.1, 121.8, 115.1, 113.1, 112.6, 143.0, 174.6, 185.9, 195.4, 210.9, 218.8, 228.5, 243.4, 255.8, 274.5, 248.1, 237.7, 261.5, 271.3, 259.4, 255.0, 288.8, 290.9, 278.0, 255.9, 239.3, 210.6, 166.8, 145.6, 140.7, 155.0, 137.4, 150.9, 179.0, 221.8, 264.8, 266.2, 271.3, 280.7, 293.4, 317.5, 327.4, 303.9, 279.9, 247.9]}],\n",
       "                        {\"template\": {\"data\": {\"scatter\": [{\"line\": {\"width\": 3}, \"marker\": {\"size\": 9}, \"type\": \"scatter\"}], \"scatter3d\": [{\"line\": {\"width\": 3}, \"marker\": {\"size\": 9}, \"type\": \"scatter3d\"}], \"scattergeo\": [{\"line\": {\"width\": 3}, \"marker\": {\"size\": 9}, \"type\": \"scattergeo\"}], \"scattergl\": [{\"line\": {\"width\": 3}, \"marker\": {\"size\": 9}, \"type\": \"scattergl\"}], \"scatterpolar\": [{\"line\": {\"width\": 3}, \"marker\": {\"size\": 9}, \"type\": \"scatterpolar\"}], \"scatterpolargl\": [{\"line\": {\"width\": 3}, \"marker\": {\"size\": 9}, \"type\": \"scatterpolargl\"}], \"scatterternary\": [{\"line\": {\"width\": 3}, \"marker\": {\"size\": 9}, \"type\": \"scatterternary\"}], \"table\": [{\"cells\": {\"height\": 30}, \"header\": {\"height\": 36}, \"type\": \"table\"}]}, \"layout\": {\"font\": {\"size\": 18}}}, \"title\": {\"text\": \"Reward Per Episode\"}},\n",
       "                        {\"showLink\": false, \"linkText\": \"Export to plot.ly\", \"plotlyServerURL\": \"https://plot.ly\", \"responsive\": true}\n",
       "                    ).then(function(){\n",
       "                            \n",
       "var gd = document.getElementById('94d9fb3a-8b1f-42e4-ae04-2a28f3a9a34e');\n",
       "var x = new MutationObserver(function (mutations, observer) {{\n",
       "        var display = window.getComputedStyle(gd).display;\n",
       "        if (!display || display === 'none') {{\n",
       "            console.log([gd, 'removed!']);\n",
       "            Plotly.purge(gd);\n",
       "            observer.disconnect();\n",
       "        }}\n",
       "}});\n",
       "\n",
       "// Listen for the removal of the full notebook cells\n",
       "var notebookContainer = gd.closest('#notebook-container');\n",
       "if (notebookContainer) {{\n",
       "    x.observe(notebookContainer, {childList: true});\n",
       "}}\n",
       "\n",
       "// Listen for the clearing of the current output cell\n",
       "var outputEl = gd.closest('.output');\n",
       "if (outputEl) {{\n",
       "    x.observe(outputEl, {childList: true});\n",
       "}}\n",
       "\n",
       "                        })\n",
       "                };\n",
       "                });\n",
       "            </script>\n",
       "        </div>"
      ]
     },
     "metadata": {},
     "output_type": "display_data"
    }
   ],
   "source": [
    "plotly.offline.iplot({\n",
    "    \"data\": [go.Scatter(x=np.arange(len(ep_rewards)), y=moving_average(ep_rewards, 10))],\n",
    "    \"layout\": go.Layout(title=\"Reward Per Episode\", template=\"presentation\")\n",
    "})"
   ]
  }
 ],
 "metadata": {
  "kernelspec": {
   "display_name": "Python 3",
   "language": "python",
   "name": "python3"
  },
  "language_info": {
   "codemirror_mode": {
    "name": "ipython",
    "version": 3
   },
   "file_extension": ".py",
   "mimetype": "text/x-python",
   "name": "python",
   "nbconvert_exporter": "python",
   "pygments_lexer": "ipython3",
   "version": "3.6.8"
  }
 },
 "nbformat": 4,
 "nbformat_minor": 2
}
